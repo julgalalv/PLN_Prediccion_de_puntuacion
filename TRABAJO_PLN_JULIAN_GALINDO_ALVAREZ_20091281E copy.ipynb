{
 "cells": [
  {
   "cell_type": "code",
   "execution_count": 1,
   "id": "e75e6f2c",
   "metadata": {},
   "outputs": [],
   "source": [
    "# Importamos re para expresiones regulares\n",
    "import os\n",
    "import settings\n",
    "from preprocessor import *"
   ]
  },
  {
   "cell_type": "code",
   "execution_count": 2,
   "id": "d66fc2c6",
   "metadata": {},
   "outputs": [],
   "source": [
    "settings.initialize()"
   ]
  },
  {
   "cell_type": "markdown",
   "id": "da3633a0",
   "metadata": {},
   "source": [
    "### APARTADO 6"
   ]
  },
  {
   "cell_type": "code",
   "execution_count": 3,
   "id": "48da3929",
   "metadata": {},
   "outputs": [],
   "source": [
    "#!pip install -r {settings.PUNCTUATOR2TFT_DIR}/requirements.txt"
   ]
  },
  {
   "cell_type": "code",
   "execution_count": 4,
   "id": "028bb48b",
   "metadata": {},
   "outputs": [],
   "source": [
    "TEST_RAW_PATH = os.path.join(settings.DATA_RAW_DIR,'PunctuationTask.test.en')\n",
    "CHECK_RAW_PATH = os.path.join(settings.DATA_RAW_DIR,'PunctuationTask.check.en')\n",
    "TRAIN_RAW_PATH = os.path.join(settings.DATA_RAW_DIR,'PunctuationTask.train.en')\n",
    "\n",
    "TEST_PREP_PATH  = prepare_file(TEST_RAW_PATH,'test.prepared.txt')\n",
    "CHECK_PREP_PATH = prepare_file(CHECK_RAW_PATH,'check.prepared.txt',allow_duplicates=False)\n",
    "TRAIN_PREP_PATH = prepare_file(TRAIN_RAW_PATH,'train.prepared.txt',lowercase=True)"
   ]
  },
  {
   "cell_type": "code",
   "execution_count": 5,
   "id": "567edf06",
   "metadata": {},
   "outputs": [],
   "source": [
    "from preprocessor import train_dev_test_split"
   ]
  },
  {
   "cell_type": "code",
   "execution_count": 22,
   "id": "e6766b5a",
   "metadata": {},
   "outputs": [],
   "source": [
    "TRAIN_TRAIN_PREP_PATH, TRAIN_DEV_PREP_PATH, TRAIN_TEST_PREP_PATH = train_dev_test_split(TRAIN_PREP_PATH, train_split = 0.7, dev_split = 0.15)"
   ]
  },
  {
   "cell_type": "code",
   "execution_count": 24,
   "id": "9bf4bd27",
   "metadata": {},
   "outputs": [
    {
     "name": "stdout",
     "output_type": "stream",
     "text": [
      "Vocabulary size: 46110\n",
      "Vocabulary \"data\\preprocessed\\vocabulary\" size: 46110\n",
      "Vocabulary \"data\\preprocessed\\punctuations\" size: 7\n",
      "0.19% UNK-s in data\\preprocessed\\train\n",
      "Vocabulary \"data\\preprocessed\\vocabulary\" size: 46110\n",
      "Vocabulary \"data\\preprocessed\\punctuations\" size: 7\n",
      "0.85% UNK-s in data\\preprocessed\\dev\n",
      "Vocabulary \"data\\preprocessed\\vocabulary\" size: 46110\n",
      "Vocabulary \"data\\preprocessed\\punctuations\" size: 7\n",
      "0.88% UNK-s in data\\preprocessed\\test\n"
     ]
    },
    {
     "name": "stderr",
     "output_type": "stream",
     "text": [
      "\"DOSKEY\" no se reconoce como un comando interno o externo,\n",
      "programa o archivo por lotes ejecutable.\n"
     ]
    }
   ],
   "source": [
    "!python {settings.PUNCTUATOR2TF2_DIR}/data.py {settings.DATA_PREPARED_DIR}"
   ]
  },
  {
   "cell_type": "code",
   "execution_count": 8,
   "id": "feb73a51",
   "metadata": {},
   "outputs": [],
   "source": [
    "model_name = 'punctuator'\n",
    "n_layers = 40\n",
    "lr = 0.02\n",
    "model_full_name = 'Model_{}_h{}_lr{}.pcl'.format(model_name,n_layers,lr)"
   ]
  },
  {
   "cell_type": "code",
   "execution_count": 9,
   "id": "78a4d023",
   "metadata": {},
   "outputs": [],
   "source": [
    "#!python {settings.PUNCTUATOR2TF2_DIR}/main.py {model_name} {n_layers} {lr}"
   ]
  },
  {
   "cell_type": "code",
   "execution_count": 10,
   "id": "ea8906cd",
   "metadata": {},
   "outputs": [],
   "source": [
    "output_predicted_file_path = os.path.join(settings.PREDICTED_DIR,'test.punctuated2tf2.raw.txt')"
   ]
  },
  {
   "cell_type": "code",
   "execution_count": 11,
   "id": "38c3b71c",
   "metadata": {},
   "outputs": [],
   "source": [
    "#!python {settings.PUNCTUATOR2TF2_DIR}/punctuator.py ./{model_full_name} {TEST_RAW_PATH} {output_predicted_file_path}"
   ]
  },
  {
   "cell_type": "code",
   "execution_count": 12,
   "id": "efe7a743",
   "metadata": {},
   "outputs": [],
   "source": [
    "TEST_PREDICT_PREP_PATH  = prepare_file(output_predicted_file_path,'test.punctuated2tf2.prepared.txt',lowercase=False,allow_duplicates=False,token_punct=False)"
   ]
  },
  {
   "cell_type": "code",
   "execution_count": 13,
   "id": "c02b1887",
   "metadata": {},
   "outputs": [
    {
     "name": "stdout",
     "output_type": "stream",
     "text": [
      "Vocabulary \"data\\preprocessed\\punctuations\" size: 7\n",
      "----------------------------------------------\n",
      "PUNCTUATION      PRECISION RECALL    F-SCORE  \n",
      "!EXCLAMATIONMARK 0.000     0.000     nan      \n",
      ":COLON           50.800    10.200    17.000   \n",
      ",COMMA           65.100    60.800    62.900   \n",
      ".PERIOD          50.800    21.600    30.300   \n",
      ";SEMICOLON       11.100    0.800     1.400    \n",
      "?QUESTIONMARK    42.400    13.200    20.200   \n",
      "----------------------------------------------\n",
      "Overall          60.500    40.000    48.200   \n",
      "Err: 9.95%\n",
      "SER: 78.1%\n"
     ]
    },
    {
     "name": "stderr",
     "output_type": "stream",
     "text": [
      "\"DOSKEY\" no se reconoce como un comando interno o externo,\n",
      "programa o archivo por lotes ejecutable.\n"
     ]
    }
   ],
   "source": [
    "!python punctuator2tf2/error_calculator.py data/prepared/check.prepared.txt data/prepared/test.punctuated2tf2.prepared.txt"
   ]
  },
  {
   "cell_type": "code",
   "execution_count": 14,
   "id": "9734391f",
   "metadata": {},
   "outputs": [],
   "source": [
    "from evaluator import evaluate_punctuated"
   ]
  },
  {
   "cell_type": "code",
   "execution_count": 15,
   "id": "8f311a9a",
   "metadata": {},
   "outputs": [
    {
     "name": "stdout",
     "output_type": "stream",
     "text": [
      "=============================================\n",
      "MÉTRICAS\n",
      "=============================================\n",
      "precision global:  0.8838893706975988\n",
      "recall global:  0.8086521534303638\n",
      "F1 global:  0.844598531639669\n",
      "=============================================\n",
      "precision media:  0.893604385062655\n",
      "recall medio:  0.7076767808421794\n",
      "F1 medio:  0.7898463905434807\n",
      "=============================================\n",
      "rendimiento:  0.05235711305798915\n",
      "=============================================\n",
      "número de instancias en el corpus:  14382\n",
      "=============================================\n"
     ]
    },
    {
     "data": {
      "text/plain": [
       "{'precision_global': 0.8838893706975988,\n",
       " 'recall_global': 0.8086521534303638,\n",
       " 'F1_global': 0.844598531639669,\n",
       " 'precision_mean': 0.893604385062655,\n",
       " 'recall_mean': 0.7076767808421794,\n",
       " 'F1_mean': 0.7898463905434807,\n",
       " 'score': 0.05235711305798915}"
      ]
     },
     "execution_count": 15,
     "metadata": {},
     "output_type": "execute_result"
    }
   ],
   "source": [
    "evaluate_punctuated(CHECK_PREP_PATH,TEST_RAW_PATH,TEST_PREDICT_PREP_PATH)"
   ]
  },
  {
   "cell_type": "code",
   "execution_count": null,
   "id": "ab3b07fd",
   "metadata": {},
   "outputs": [],
   "source": []
  }
 ],
 "metadata": {
  "kernelspec": {
   "display_name": "Python 3.9.6 64-bit",
   "language": "python",
   "name": "python3"
  },
  "language_info": {
   "codemirror_mode": {
    "name": "ipython",
    "version": 3
   },
   "file_extension": ".py",
   "mimetype": "text/x-python",
   "name": "python",
   "nbconvert_exporter": "python",
   "pygments_lexer": "ipython3",
   "version": "3.9.6"
  },
  "vscode": {
   "interpreter": {
    "hash": "caf8521805df2f681626d7ffc655f9a444f7479c982c19b2313015333928fe69"
   }
  }
 },
 "nbformat": 4,
 "nbformat_minor": 5
}

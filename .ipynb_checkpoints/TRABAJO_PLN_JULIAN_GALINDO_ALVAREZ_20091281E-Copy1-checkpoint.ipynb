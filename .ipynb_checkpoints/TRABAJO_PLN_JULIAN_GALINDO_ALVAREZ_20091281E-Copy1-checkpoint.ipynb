{
 "cells": [
  {
   "cell_type": "code",
   "execution_count": 1,
   "id": "e75e6f2c",
   "metadata": {},
   "outputs": [],
   "source": [
    "import re"
   ]
  },
  {
   "cell_type": "code",
   "execution_count": 40,
   "id": "5a142e43",
   "metadata": {},
   "outputs": [],
   "source": [
    "# Apartado 1\n",
    "def addPunctuationBasic(str):\n",
    "    inicial_mayus = str[0].upper()\n",
    "    last_char = str[-1]\n",
    "    add_dot = '.' if last_char != '.' else ''\n",
    "    temp = list(str)\n",
    "    temp[0] = inicial_mayus\n",
    "    return ''.join(temp) + add_dot"
   ]
  },
  {
   "cell_type": "code",
   "execution_count": 348,
   "id": "25868085",
   "metadata": {},
   "outputs": [
    {
     "data": {
      "text/plain": [
       "'Esta es una frase de prueba.'"
      ]
     },
     "execution_count": 348,
     "metadata": {},
     "output_type": "execute_result"
    }
   ],
   "source": [
    "addPunctuationBasic('esta es una frase de prueba')"
   ]
  },
  {
   "cell_type": "code",
   "execution_count": 42,
   "id": "3781fd5d",
   "metadata": {},
   "outputs": [],
   "source": [
    "# Dadas dos listas, añade '' a la menor hasta que ambas tengan el mismo tamaño\n",
    "# Deprecated\n",
    "def padding(str1, str2):\n",
    "    len1, len2 = len(str1), len(str2)\n",
    "    max_len = max(len1, len2)\n",
    "    str1 += [''] * (max_len - len1)\n",
    "    str2 += [''] * (max_len - len2)\n",
    "    return str1, str2"
   ]
  },
  {
   "cell_type": "code",
   "execution_count": 126,
   "id": "80814bb2",
   "metadata": {},
   "outputs": [],
   "source": [
    "def tokenizator(text):\n",
    "    # Añadimos un espacio delante de los caracteres especiales para poder separarlos\n",
    "    text = re.sub(r' ?([.|,|;|:|?|!]+) ?', r' \\1 ', text)\n",
    "    return text.split()\n",
    "\n",
    "def verifyPunctuation(check, test):\n",
    "    # Signos de puntuación (sdp)\n",
    "    punct = ['.',',',';',':','?','!']\n",
    "    # Tokenizamos los textos\n",
    "    check = tokenizator(check)\n",
    "    test = tokenizator(test)\n",
    "    # Hacemos padding\n",
    "    check, test = padding(check, test)\n",
    "    \n",
    "    l_check = len(check)\n",
    "    modifications = []\n",
    "    for i in range(l_check):\n",
    "        # Deletions:\n",
    "        # Si test[i] no es un sdp pero check[i] si y las palabras anteriores coinciden salvo mayúsculas\n",
    "        # añadimos la modificación ('D', i) e insertamos el correspondiente sdp faltante en test.\n",
    "        if check[i] in punct:\n",
    "            if test[i] not in punct and test[i-1].upper() == check[i - 1].upper():\n",
    "                modifications.append(('D',i))\n",
    "                test.insert(i,check[i])\n",
    "                # reestablecemos el padding para mantener la longitud l\n",
    "                if '' in test :\n",
    "                    test.pop(test.index(''))\n",
    "        # Insertions:\n",
    "        # Si test[i] es un sdp pero check[i] no y las palabras anteriores coinciden salvo mayúsculas\n",
    "        # añadimos la modificación ('I', i) y eliminamos el correspondiente sdp en test.\n",
    "        if check[i] not in punct:\n",
    "            if test[i] in punct and test[i-1].upper() == check[i - 1].upper():\n",
    "                modifications.append(('I',i))\n",
    "                test.pop(i)\n",
    "                test.insert(len(test),'') # reestablecemos el padding para mantener la longitud l\n",
    "   \n",
    "    l_test = len(test)\n",
    "    # En caso de que haya más elementos no lulos en test que en check es porque había inserciones al final\n",
    "    # ded la cadena\n",
    "    if l_test > l_check:\n",
    "        for i in range(l_check,l_test):\n",
    "            if test[i] != '':\n",
    "                modifications.append(('I',i))\n",
    "                test.pop(i)\n",
    "    \n",
    "    # Substitutions:\n",
    "    # Puesto que ahora 'test' tiene los mismos signos de puntuacuón que 'check', comprobamos qué tokens \n",
    "    # no coinciden y añadimos la modificación (('S',i))\n",
    "    for i in range(l_check):\n",
    "        if check[i] != test[i] and check[i] != '' and test[i] != '':\n",
    "            modifications.append(('S',i))\n",
    "\n",
    "    return set(modifications)"
   ]
  },
  {
   "cell_type": "code",
   "execution_count": 426,
   "id": "b2c034b3",
   "metadata": {},
   "outputs": [],
   "source": [
    "def evaluate(punctuationFunction, show_line = -1, add_punct_basic = False):\n",
    "    test_file = 'PLN-MULCIA-Junio-2022-Dataset/PunctuationTask.test.en'\n",
    "    check_file = 'PLN-MULCIA-Junio-2022-Dataset/PunctuationTask.check.en'\n",
    "    # número de instancias correctamente puntuadas\n",
    "    num_correctos = 0\n",
    "    # número de cambios globales hechos por la función  \n",
    "    hechos = 0\n",
    "    # número de modificaciones correctas globales\n",
    "    correctos = 0\n",
    "    # número de modificaciones necesarias globales\n",
    "    necesarios = 0\n",
    "    \n",
    "    # precisión y recall por instancia para calcular las medias\n",
    "    precision_, recall_ = [], []\n",
    "    \n",
    "    with open(test_file, 'r') as test, open(check_file, 'r') as check:\n",
    "        test_lines = test.readlines()\n",
    "        check_lines = check.readlines()\n",
    "        \n",
    "        # número de instancias\n",
    "        N = len(test_lines)\n",
    "        #testeo = True\n",
    "        for i in range(N):\n",
    "            c = check_lines[i].rstrip(' \\n')\n",
    "            t = test_lines[i].rstrip(' \\n')\n",
    "            punctuated = punctuationFunction(t,add_punct_basic) if add_punct_basic else punctuationFunction(t)\n",
    "            # Diferencia entre el check y el test original (cambios necesarios)\n",
    "            vct = verifyPunctuation(t,c)\n",
    "            # Diferencia entre el test original y el modificado (modificaciones hechas por la función)\n",
    "            vtmt = verifyPunctuation(t,punctuated)\n",
    "            # Diferencia entre el check y el modificado (modificaciones hechas por la función)\n",
    "            vcmt = verifyPunctuation(punctuated,c)\n",
    "            num_correctos += 1 if len(vcmt) == 0 else 0\n",
    "            # número de cambios hechos por la función            \n",
    "            hechos_ = len(vtmt)\n",
    "            # número de cambios correctos hechos (intersección entre cambios hechos y necesarios)\n",
    "            correctos_ = len(vtmt & vct) \n",
    "            error_ = len(vtmt | vcmt) - len(vct) #sustituciones erroneas\n",
    "            correctos_ -= error_\n",
    "            correctos_ = max(correctos_,0)\n",
    "            # número de cambios necesarios\n",
    "            necesarios_ = len(vct)\n",
    "            # métricas medias\n",
    "            precision_.append(correctos_ / hechos_) if hechos_ != 0 else precision_.append(0)\n",
    "            recall_.append(correctos_ / necesarios_) if necesarios_ != 0 else recall_.append(0)\n",
    "            hechos += hechos_\n",
    "            correctos += correctos_\n",
    "            necesarios += necesarios_\n",
    "            #testeo = vct == (vtmt | vcmt)\n",
    "            \n",
    "            # si show_line está en el rango de instancias se muestra información concreta de esa línea\n",
    "            if i == show_line:\n",
    "                print('TEST LINE: \\n ',t)\n",
    "                print('VALIDATION LINE: \\n ',c)\n",
    "                print('MODEL PUNCTUATED LINE: \\n ',punctuated,'\\n')\n",
    "                print('Modificaciones necesarias: ', vct)\n",
    "                print('Modificaciones hechas por el modelo: ',vtmt)\n",
    "                print('Diferencias entre modelo y validación: ',vcmt, '\\n')\n",
    "                print('n_hechas (Núm. de modificaciones hechas por el modelo): ',hechos_)\n",
    "                print('n_correctas (Núm. de modificaciones correctas: \\n interseccion(hechas,necesarias) - error de sustitucion de signo): ',correctos_)\n",
    "                print('n_necesarias (Núm. de modificaciones necesarias): ',necesarios_, '\\n')\n",
    "                print('precision (n_correctas/n_hechas): ',precision_[i])\n",
    "                print('recall (n_correctas/n_necesarias): ',recall_[i],'\\n')\n",
    "        test.close()\n",
    "        check.close()\n",
    "    # Métricas globales\n",
    "    precision = correctos / hechos\n",
    "    recall = correctos / necesarios\n",
    "    F1 = 2 * (precision * recall) / (precision + recall)\n",
    "    # Métricas medias\n",
    "    precision_media = sum(precision_)/len(precision_)\n",
    "    recall_media = sum(recall_)/len(recall_)\n",
    "    F1_ = 2 * (precision_media * recall_media) / (precision_media + recall_media)\n",
    "    print('='*40)\n",
    "    print('MÉTRICAS')\n",
    "    print('='*40)\n",
    "    print ('precision global: ', precision)\n",
    "    print ('recall global: ', recall)\n",
    "    print ('F1 global: ', F1)\n",
    "    print('-'*40)\n",
    "    print ('precision media: ', precision_media)\n",
    "    print ('recall medio: ', recall_media)\n",
    "    print ('F1 medio: ', F1_)\n",
    "    print('-'*40)\n",
    "    print ('rendimiento: ', num_correctos/N)\n",
    "    print('-'*40)\n",
    "    \n",
    "    "
   ]
  },
  {
   "cell_type": "code",
   "execution_count": 427,
   "id": "e40008f1",
   "metadata": {},
   "outputs": [
    {
     "name": "stdout",
     "output_type": "stream",
     "text": [
      "TEST LINE: \n",
      "  it can be a very complicated thing the ocean\n",
      "VALIDATION LINE: \n",
      "  It can be a very complicated thing, the ocean.\n",
      "MODEL PUNCTUATED LINE: \n",
      "  It can be a very complicated thing the ocean. \n",
      "\n",
      "Modificaciones necesarias:  {('S', 0), ('I', 7), ('I', 9)}\n",
      "Modificaciones hechas por el modelo:  {('S', 0), ('I', 9)}\n",
      "Diferencias entre modelo y validación:  {('I', 7)} \n",
      "\n",
      "n_hechas (Núm. de modificaciones hechas por el modelo):  2\n",
      "n_correctas (Núm. de modificaciones correctas: \n",
      " interseccion(hechas,necesarias) - error de sustitucion de signo):  2\n",
      "n_necesarias (Núm. de modificaciones necesarias):  3 \n",
      "\n",
      "precision (n_correctas/n_hechas):  1.0\n",
      "recall (n_correctas/n_necesarias):  0.6666666666666666 \n",
      "\n",
      "========================================\n",
      "MÉTRICAS\n",
      "========================================\n",
      "precision global:  0.9350088766665506\n",
      "recall global:  0.42247318254742205\n",
      "F1 global:  0.5819836411895346\n",
      "----------------------------------------\n",
      "precision media:  0.9345709915171743\n",
      "recall medio:  0.5824890513790205\n",
      "F1 medio:  0.7176741261419389\n",
      "----------------------------------------\n",
      "rendimiento:  0.263384786538729\n",
      "----------------------------------------\n"
     ]
    }
   ],
   "source": [
    "evaluate(addPunctuationBasic,0)"
   ]
  },
  {
   "cell_type": "markdown",
   "id": "060cd307",
   "metadata": {},
   "source": [
    "Vemos que la precisión es alta, lo que indica que lo que tiene que hacer el modelo (poner la primera letra en mayúscula y un punto al final), lo hace bien. Sin embargo, el recall es bajo ya que esos cambios no son suficientes para puntuar correctamente las oraciones, cosa que también se deduce del bajo rendimiento."
   ]
  },
  {
   "cell_type": "code",
   "execution_count": 236,
   "id": "7f67d4e8",
   "metadata": {},
   "outputs": [],
   "source": [
    "def ngrams(text,N):\n",
    "    text = tokenizator(text)\n",
    "    return [tuple(text[i:i+N]) for i in range(len(text)-N+1)]\n",
    "\n",
    "def get_voc_from_text(text):\n",
    "    return set(tokenizator(train_lines))"
   ]
  },
  {
   "cell_type": "code",
   "execution_count": 324,
   "id": "7fb5eb04",
   "metadata": {},
   "outputs": [],
   "source": [
    "import numpy as np\n",
    "class model4gram():\n",
    "\n",
    "    def __init__(self):\n",
    "        self.punct_signs = ['.',',',';',':','?','!']\n",
    "        self.mayus_signs = ['.','?','!']\n",
    "        self.minus = '<minus>'\n",
    "        self.mayus = '<mayus>'\n",
    "        self.four_grams = dict()\n",
    "        \n",
    "    def inicial(self,palabra,mayuscula):\n",
    "        inicial = palabra[0]\n",
    "        inicial_cambiada = inicial.upper() if mayuscula else inicial.lower()\n",
    "        temp = list(palabra)\n",
    "        temp[0] = inicial_cambiada\n",
    "        return ''.join(temp)\n",
    "\n",
    "                \n",
    "    def entrena(self):\n",
    "        train_file = 'PLN-MULCIA-Junio-2022-Dataset/PunctuationTask.train.en'\n",
    "\n",
    "        self.four_grams[self.mayus]= {}\n",
    "        self.four_grams[self.minus]={}\n",
    "        for s in model.punct_signs:\n",
    "            self.four_grams[s] = {}\n",
    "        with open(train_file, 'r', encoding='utf-8') as train:\n",
    "            train_lines = train.readlines()\n",
    "            for line in train_lines:\n",
    "                line = line.rstrip(' \\n')\n",
    "                ng = ngrams(line,4)\n",
    "                for token in ng:\n",
    "                    last = token[3]\n",
    "                    op = last if last in self.punct_signs else self.mayus if last.isupper() else self.minus  \n",
    "                    triplet = (token[0].lower(),token[1].lower(),token[2].lower())\n",
    "                    self.four_grams[op][triplet]= self.four_grams[op].get(triplet,0) + 1\n",
    "        train.close()\n",
    "                \n",
    "    def predice(self, terna,print_scores=False):\n",
    "        v = 0\n",
    "        prediction = 'NONE'\n",
    "        for i in self.four_grams:\n",
    "            value = self.four_grams[i].get(terna,0) \n",
    "            print((i,value)) if print_scores else True\n",
    "            if value > v:\n",
    "                prediction = i\n",
    "                v = value\n",
    "        grama =  (*terna, prediction)\n",
    "        return grama"
   ]
  },
  {
   "cell_type": "code",
   "execution_count": null,
   "id": "0b6cff39",
   "metadata": {},
   "outputs": [],
   "source": [
    "model = model4gram()\n",
    "model.entrena()"
   ]
  },
  {
   "cell_type": "code",
   "execution_count": 344,
   "id": "739ff2f6",
   "metadata": {},
   "outputs": [],
   "source": [
    "def addPunctuation4gram(example,add_basic_punct = False):\n",
    "    # Trabajamos con los tokens\n",
    "    example = tokenizator(example)\n",
    "    num_tokens = len(example)\n",
    "    # Generamos los 3-gramas del texto\n",
    "    N = 3\n",
    "    grams = [tuple(example[i:i+N]) for i in range(len(example)-N+1)]\n",
    "    added_tokens = 0\n",
    "    for i in range(len(grams)):\n",
    "        # Calculamos el 4-grama predicho\n",
    "        four_gram = model.predice(grams[i])\n",
    "        operation = four_gram[-1]\n",
    "        target_index = i+N+added_tokens\n",
    "        # Transformamos los tokens del texto\n",
    "        if operation == model.mayus and target_index < num_tokens:\n",
    "            example[target_index] = model.inicial(example[target_index], mayuscula = True)\n",
    "        if operation == model.minus and target_index < num_tokens:\n",
    "            example[target_index] = model.inicial(example[target_index], mayuscula = False)\n",
    "        if operation in model.punct_signs:\n",
    "            added_tokens += 1\n",
    "            num_tokens += 1\n",
    "            example.insert(target_index, operation)\n",
    "            if operation in model.mayus_signs and target_index < num_tokens -1:\n",
    "                example[target_index+1] = model.inicial(example[target_index+1], mayuscula = True)\n",
    "\n",
    "    # Añadimos los espacios excepto para los signos de puntuación\n",
    "    result = [' ' + x if x not in model.punct_signs else x for x in example]\n",
    "    result = ''.join(result)[1:]\n",
    "    # Reconstruimos el texto predicho\n",
    "    if add_basic_punct:\n",
    "        dot = '' if result[-1] in model.punct_signs else '.'\n",
    "        result = model.inicial(result + dot,mayuscula=True)\n",
    "    return result \n",
    "    "
   ]
  },
  {
   "cell_type": "code",
   "execution_count": 408,
   "id": "1944aec7",
   "metadata": {},
   "outputs": [
    {
     "data": {
      "text/plain": [
       "'and we also are eating meat, that comes from some of these same places'"
      ]
     },
     "execution_count": 408,
     "metadata": {},
     "output_type": "execute_result"
    }
   ],
   "source": [
    "text_example = \"and we also are eating meat that comes from some of these same places\"\n",
    "addPunctuation4gram(text_example,False)"
   ]
  },
  {
   "cell_type": "code",
   "execution_count": 428,
   "id": "c01512bd",
   "metadata": {},
   "outputs": [
    {
     "name": "stdout",
     "output_type": "stream",
     "text": [
      "TEST LINE: \n",
      "  people working in these canneries could barely stay there all day because of the smell but you know what they came out saying\n",
      "VALIDATION LINE: \n",
      "  People working in these canneries could barely stay there all day because of the smell, but you know what they came out saying?\n",
      "MODEL PUNCTUATED LINE: \n",
      "  people working in these canneries could barely stay there all day because of the smell. But you know what they came out saying \n",
      "\n",
      "Modificaciones necesarias:  {('I', 23), ('I', 15), ('S', 0)}\n",
      "Modificaciones hechas por el modelo:  {('S', 15), ('I', 15)}\n",
      "Diferencias entre modelo y validación:  {('S', 0), ('I', 24), ('S', 15), ('S', 16)} \n",
      "\n",
      "n_hechas (Núm. de modificaciones hechas por el modelo):  2\n",
      "n_correctas (Núm. de modificaciones correctas: \n",
      " interseccion(hechas,necesarias) - error de sustitucion de signo):  0\n",
      "n_necesarias (Núm. de modificaciones necesarias):  3 \n",
      "\n",
      "precision (n_correctas/n_hechas):  0.0\n",
      "recall (n_correctas/n_necesarias):  0.0 \n",
      "\n"
     ]
    },
    {
     "ename": "IndexError",
     "evalue": "list index out of range",
     "output_type": "error",
     "traceback": [
      "\u001b[1;31m---------------------------------------------------------------------------\u001b[0m",
      "\u001b[1;31mIndexError\u001b[0m                                Traceback (most recent call last)",
      "\u001b[1;32m~\\AppData\\Local\\Temp/ipykernel_5972/3316872185.py\u001b[0m in \u001b[0;36m<module>\u001b[1;34m\u001b[0m\n\u001b[1;32m----> 1\u001b[1;33m \u001b[0mevaluate\u001b[0m\u001b[1;33m(\u001b[0m\u001b[0maddPunctuation4gram\u001b[0m\u001b[1;33m,\u001b[0m\u001b[1;36m2\u001b[0m\u001b[1;33m)\u001b[0m\u001b[1;33m\u001b[0m\u001b[1;33m\u001b[0m\u001b[0m\n\u001b[0m",
      "\u001b[1;32m~\\AppData\\Local\\Temp/ipykernel_5972/2572694387.py\u001b[0m in \u001b[0;36mevaluate\u001b[1;34m(punctuationFunction, show_line, add_punct_basic)\u001b[0m\n\u001b[0;32m     30\u001b[0m             \u001b[0mvtmt\u001b[0m \u001b[1;33m=\u001b[0m \u001b[0mverifyPunctuation\u001b[0m\u001b[1;33m(\u001b[0m\u001b[0mt\u001b[0m\u001b[1;33m,\u001b[0m\u001b[0mpunctuated\u001b[0m\u001b[1;33m)\u001b[0m\u001b[1;33m\u001b[0m\u001b[1;33m\u001b[0m\u001b[0m\n\u001b[0;32m     31\u001b[0m             \u001b[1;31m# Diferencia entre el check y el modificado (modificaciones hechas por la función)\u001b[0m\u001b[1;33m\u001b[0m\u001b[1;33m\u001b[0m\u001b[1;33m\u001b[0m\u001b[0m\n\u001b[1;32m---> 32\u001b[1;33m             \u001b[0mvcmt\u001b[0m \u001b[1;33m=\u001b[0m \u001b[0mverifyPunctuation\u001b[0m\u001b[1;33m(\u001b[0m\u001b[0mpunctuated\u001b[0m\u001b[1;33m,\u001b[0m\u001b[0mc\u001b[0m\u001b[1;33m)\u001b[0m\u001b[1;33m\u001b[0m\u001b[1;33m\u001b[0m\u001b[0m\n\u001b[0m\u001b[0;32m     33\u001b[0m             \u001b[0mnum_correctos\u001b[0m \u001b[1;33m+=\u001b[0m \u001b[1;36m1\u001b[0m \u001b[1;32mif\u001b[0m \u001b[0mlen\u001b[0m\u001b[1;33m(\u001b[0m\u001b[0mvcmt\u001b[0m\u001b[1;33m)\u001b[0m \u001b[1;33m==\u001b[0m \u001b[1;36m0\u001b[0m \u001b[1;32melse\u001b[0m \u001b[1;36m0\u001b[0m\u001b[1;33m\u001b[0m\u001b[1;33m\u001b[0m\u001b[0m\n\u001b[0;32m     34\u001b[0m             \u001b[1;31m# número de cambios hechos por la función\u001b[0m\u001b[1;33m\u001b[0m\u001b[1;33m\u001b[0m\u001b[1;33m\u001b[0m\u001b[0m\n",
      "\u001b[1;32m~\\AppData\\Local\\Temp/ipykernel_5972/298218264.py\u001b[0m in \u001b[0;36mverifyPunctuation\u001b[1;34m(check, test)\u001b[0m\n\u001b[0;32m     40\u001b[0m     \u001b[1;32mif\u001b[0m \u001b[0ml_test\u001b[0m \u001b[1;33m>\u001b[0m \u001b[0ml_check\u001b[0m\u001b[1;33m:\u001b[0m\u001b[1;33m\u001b[0m\u001b[1;33m\u001b[0m\u001b[0m\n\u001b[0;32m     41\u001b[0m         \u001b[1;32mfor\u001b[0m \u001b[0mi\u001b[0m \u001b[1;32min\u001b[0m \u001b[0mrange\u001b[0m\u001b[1;33m(\u001b[0m\u001b[0ml_check\u001b[0m\u001b[1;33m,\u001b[0m\u001b[0ml_test\u001b[0m\u001b[1;33m)\u001b[0m\u001b[1;33m:\u001b[0m\u001b[1;33m\u001b[0m\u001b[1;33m\u001b[0m\u001b[0m\n\u001b[1;32m---> 42\u001b[1;33m             \u001b[1;32mif\u001b[0m \u001b[0mtest\u001b[0m\u001b[1;33m[\u001b[0m\u001b[0mi\u001b[0m\u001b[1;33m]\u001b[0m \u001b[1;33m!=\u001b[0m \u001b[1;34m''\u001b[0m\u001b[1;33m:\u001b[0m\u001b[1;33m\u001b[0m\u001b[1;33m\u001b[0m\u001b[0m\n\u001b[0m\u001b[0;32m     43\u001b[0m                 \u001b[0mmodifications\u001b[0m\u001b[1;33m.\u001b[0m\u001b[0mappend\u001b[0m\u001b[1;33m(\u001b[0m\u001b[1;33m(\u001b[0m\u001b[1;34m'I'\u001b[0m\u001b[1;33m,\u001b[0m\u001b[0mi\u001b[0m\u001b[1;33m)\u001b[0m\u001b[1;33m)\u001b[0m\u001b[1;33m\u001b[0m\u001b[1;33m\u001b[0m\u001b[0m\n\u001b[0;32m     44\u001b[0m                 \u001b[0mtest\u001b[0m\u001b[1;33m.\u001b[0m\u001b[0mpop\u001b[0m\u001b[1;33m(\u001b[0m\u001b[0mi\u001b[0m\u001b[1;33m)\u001b[0m\u001b[1;33m\u001b[0m\u001b[1;33m\u001b[0m\u001b[0m\n",
      "\u001b[1;31mIndexError\u001b[0m: list index out of range"
     ]
    }
   ],
   "source": [
    "evaluate(addPunctuation4gram,2)"
   ]
  },
  {
   "cell_type": "code",
   "execution_count": 417,
   "id": "f6dd4ee0",
   "metadata": {},
   "outputs": [
    {
     "name": "stdout",
     "output_type": "stream",
     "text": [
      "TEST LINE: \n",
      "  people working in these canneries could barely stay there all day because of the smell but you know what they came out saying\n",
      "VALIDATION LINE: \n",
      "  People working in these canneries could barely stay there all day because of the smell, but you know what they came out saying?\n",
      "MODEL PUNCTUATED LINE: \n",
      "  People working in these canneries could barely stay there all day because of the smell. But you know what they came out saying. \n",
      "\n",
      "Modificaciones necesarias:  {('I', 23), ('I', 15), ('S', 0)}\n",
      "Modificaciones hechas por el modelo:  {('I', 23), ('S', 15), ('I', 15), ('S', 0)}\n",
      "Diferencias entre modelo y validación:  {('S', 24), ('S', 15), ('S', 16)} \n",
      "\n",
      "n_hechas (Núm. de modificaciones hechas por el modelo):  4\n",
      "n_correctas (Núm. de modificaciones correctas: \n",
      " interseccion(hechas,necesarias) - error de sustitucion de signo):  0\n",
      "n_necesarias (Núm. de modificaciones necesarias):  3 \n",
      "\n",
      "precision (n_correctas/n_hechas):  0.0\n",
      "recall (n_correctas/n_necesarias):  0.0 \n",
      "\n",
      "========================================\n",
      "MÉTRICAS\n",
      "========================================\n",
      "precision global:  0.648337775284051\n",
      "recall global:  0.3634905155871528\n",
      "F1 global:  0.4658194168690727\n",
      "----------------------------------------\n",
      "precision media:  0.7573140698359732\n",
      "recall medio:  0.5078669349401784\n",
      "F1 medio:  0.6079996047723113\n",
      "----------------------------------------\n",
      "rendimiento:  0.2359894312334863\n",
      "----------------------------------------\n"
     ]
    }
   ],
   "source": [
    "evaluate(addPunctuation4gram,2,True)"
   ]
  },
  {
   "cell_type": "code",
   "execution_count": null,
   "id": "0580187b",
   "metadata": {},
   "outputs": [],
   "source": []
  }
 ],
 "metadata": {
  "kernelspec": {
   "display_name": "Python 3 (ipykernel)",
   "language": "python",
   "name": "python3"
  },
  "language_info": {
   "codemirror_mode": {
    "name": "ipython",
    "version": 3
   },
   "file_extension": ".py",
   "mimetype": "text/x-python",
   "name": "python",
   "nbconvert_exporter": "python",
   "pygments_lexer": "ipython3",
   "version": "3.9.6"
  }
 },
 "nbformat": 4,
 "nbformat_minor": 5
}

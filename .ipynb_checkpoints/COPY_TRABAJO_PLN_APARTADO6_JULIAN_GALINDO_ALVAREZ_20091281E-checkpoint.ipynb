{
 "cells": [
  {
   "cell_type": "code",
   "execution_count": 1,
   "metadata": {
    "id": "_Wxgp_BPaIvA"
   },
   "outputs": [],
   "source": [
    "# Importamos re para expresiones regulares\n",
    "import os\n",
    "import settings\n",
    "from preprocessor import *"
   ]
  },
  {
   "cell_type": "code",
   "execution_count": 2,
   "metadata": {
    "id": "WX5TWuysaSEc"
   },
   "outputs": [],
   "source": [
    "settings.initialize()"
   ]
  },
  {
   "cell_type": "code",
   "execution_count": 3,
   "metadata": {
    "id": "eov47nuWaY3E"
   },
   "outputs": [],
   "source": [
    "#!pip install -r {settings.PUNCTUATOR2TFT_DIR}/requirements.txt"
   ]
  },
  {
   "cell_type": "code",
   "execution_count": 4,
   "metadata": {
    "id": "Chx0_37TaUMM"
   },
   "outputs": [],
   "source": [
    "TEST_RAW_PATH = os.path.join(settings.DATA_RAW_DIR,'PunctuationTask.test.en')\n",
    "CHECK_RAW_PATH = os.path.join(settings.DATA_RAW_DIR,'PunctuationTask.check.en')\n",
    "TRAIN_RAW_PATH = os.path.join(settings.DATA_RAW_DIR,'PunctuationTask.train.en')\n",
    "\n",
    "TEST_PREP_PATH  = prepare_file(TEST_RAW_PATH,'test.prepared.txt')\n",
    "CHECK_PREP_PATH = prepare_file(CHECK_RAW_PATH,'check.prepared.txt',allow_duplicates=False)\n",
    "TRAIN_PREP_PATH = prepare_file(TRAIN_RAW_PATH,'train.prepared.txt',lowercase=True)"
   ]
  },
  {
   "cell_type": "code",
   "execution_count": 5,
   "metadata": {
    "id": "uBZNEXxpaf_M"
   },
   "outputs": [],
   "source": [
    "from preprocessor import train_dev_test_split"
   ]
  },
  {
   "cell_type": "code",
   "execution_count": 6,
   "metadata": {
    "id": "HpQ4I5uaag7s"
   },
   "outputs": [],
   "source": [
    "TRAIN_TRAIN_PREP_PATH, TRAIN_DEV_PREP_PATH, TRAIN_TEST_PREP_PATH = train_dev_test_split(TRAIN_PREP_PATH, train_split = 0.7, dev_split = 0.15)"
   ]
  },
  {
   "cell_type": "code",
   "execution_count": 7,
   "metadata": {
    "colab": {
     "base_uri": "https://localhost:8080/"
    },
    "id": "s09u3Xkjai7U",
    "outputId": "3dec046d-71b3-47af-a997-4584ec4615d1"
   },
   "outputs": [
    {
     "name": "stdout",
     "output_type": "stream",
     "text": [
      "Vocabulary size: 45087\n",
      "Vocabulary \"data/preprocessed/vocabulary\" size: 45087\n",
      "Vocabulary \"data/preprocessed/punctuations\" size: 7\n",
      "0.22% UNK-s in data/preprocessed/train\n",
      "Vocabulary \"data/preprocessed/vocabulary\" size: 45087\n",
      "Vocabulary \"data/preprocessed/punctuations\" size: 7\n",
      "0.86% UNK-s in data/preprocessed/dev\n",
      "Vocabulary \"data/preprocessed/vocabulary\" size: 45087\n",
      "Vocabulary \"data/preprocessed/punctuations\" size: 7\n",
      "0.84% UNK-s in data/preprocessed/test\n"
     ]
    }
   ],
   "source": [
    "!python {settings.PUNCTUATOR2TF2_DIR}/data.py {settings.DATA_PREPARED_DIR}"
   ]
  },
  {
   "cell_type": "code",
   "execution_count": 7,
   "metadata": {
    "id": "SHBheWpGak36"
   },
   "outputs": [],
   "source": [
    "model_name = 'punctuator'\n",
    "n_layers = 256\n",
    "lr = 0.02\n",
    "model_full_name = 'Model_{}_h{}_lr{}.pcl'.format(model_name,n_layers,lr)"
   ]
  },
  {
   "cell_type": "code",
   "execution_count": 9,
   "metadata": {
    "colab": {
     "base_uri": "https://localhost:8080/"
    },
    "id": "ffsKQ6xfamR0",
    "outputId": "e2ea223f-1591-436f-92cf-81062fe0755a"
   },
   "outputs": [
    {
     "name": "stdout",
     "output_type": "stream",
     "text": [
      "256 0.02 Model_punctuator_h256_lr0.02.pcl\n",
      "Building model ...\n",
      "Vocabulary \"data/preprocessed/vocabulary\" size: 45087\n",
      "2022-06-20 05:59:33.918308: W tensorflow/core/common_runtime/gpu/gpu_bfc_allocator.cc:39] Overriding allow_growth setting because the TF_FORCE_GPU_ALLOW_GROWTH environment variable is set. Original config value was 0.\n",
      "Vocabulary \"data/preprocessed/vocabulary\" size: 45087\n",
      "Vocabulary \"data/preprocessed/punctuations\" size: 7\n",
      "[TensorShape([45087, 256]), TensorShape([256, 7]), TensorShape([1, 7]), TensorShape([256, 512]), TensorShape([512, 512]), TensorShape([1, 512]), TensorShape([512]), TensorShape([256, 256]), TensorShape([512, 256]), TensorShape([256, 256]), TensorShape([1, 256]), TensorShape([512, 512]), TensorShape([256, 512]), TensorShape([1, 512]), TensorShape([512, 256]), TensorShape([256, 256]), TensorShape([1, 256]), TensorShape([256, 512]), TensorShape([256, 512]), TensorShape([1, 512]), TensorShape([256, 256]), TensorShape([256, 256]), TensorShape([1, 256]), TensorShape([256, 512]), TensorShape([256, 512]), TensorShape([1, 512]), TensorShape([256, 256]), TensorShape([256, 256]), TensorShape([1, 256])]\n",
      "Total number of trainable parameters: 13579271\n",
      "Training...\n",
      "PPL: 1.9916; Speed: 14456.22 sps\n",
      "PPL: 1.6755; Speed: 14837.38 sps\n",
      "PPL: 1.5495; Speed: 14976.21 sps\n",
      "Total number of training labels: 4113728\n",
      "Total neg log likelihood in dev iteration 323, epoch 0: 3385.17431640625\n",
      "Total num output samples in dev iteration 323, epoch 0: 12736\n",
      "Total neg log likelihood in dev iteration 323, epoch 0: 6377.9140625\n",
      "Total num output samples in dev iteration 323, epoch 0: 25472\n",
      "Total neg log likelihood in dev iteration 323, epoch 0: 9627.173828125\n",
      "Total num output samples in dev iteration 323, epoch 0: 38208\n",
      "Total neg log likelihood in dev iteration 323, epoch 0: 12884.37890625\n",
      "Total num output samples in dev iteration 323, epoch 0: 50944\n",
      "Total neg log likelihood in dev iteration 323, epoch 0: 16229.13671875\n",
      "Total num output samples in dev iteration 323, epoch 0: 63680\n",
      "Total neg log likelihood in dev iteration 323, epoch 0: 19253.966796875\n",
      "Total num output samples in dev iteration 323, epoch 0: 76416\n",
      "Total neg log likelihood in dev iteration 323, epoch 0: 22396.177734375\n",
      "Total num output samples in dev iteration 323, epoch 0: 89152\n",
      "Total neg log likelihood in dev iteration 323, epoch 0: 25501.568359375\n",
      "Total num output samples in dev iteration 323, epoch 0: 101888\n",
      "Total neg log likelihood in dev iteration 323, epoch 0: 28620.34765625\n",
      "Total num output samples in dev iteration 323, epoch 0: 114624\n",
      "Total neg log likelihood in dev iteration 323, epoch 0: 31575.4453125\n",
      "Total num output samples in dev iteration 323, epoch 0: 127360\n",
      "Total neg log likelihood in dev iteration 323, epoch 0: 35206.3046875\n",
      "Total num output samples in dev iteration 323, epoch 0: 140096\n",
      "Total neg log likelihood in dev iteration 323, epoch 0: 38819.27734375\n",
      "Total num output samples in dev iteration 323, epoch 0: 152832\n",
      "Total neg log likelihood in dev iteration 323, epoch 0: 42176.00390625\n",
      "Total num output samples in dev iteration 323, epoch 0: 165568\n",
      "Total neg log likelihood in dev iteration 323, epoch 0: 45394.99609375\n",
      "Total num output samples in dev iteration 323, epoch 0: 178304\n",
      "Total neg log likelihood in dev iteration 323, epoch 0: 49479.8515625\n",
      "Total num output samples in dev iteration 323, epoch 0: 191040\n",
      "Total neg log likelihood in dev iteration 323, epoch 0: 53002.37109375\n",
      "Total num output samples in dev iteration 323, epoch 0: 203776\n",
      "Total neg log likelihood in dev iteration 323, epoch 0: 56334.03125\n",
      "Total num output samples in dev iteration 323, epoch 0: 216512\n",
      "Total neg log likelihood in dev iteration 323, epoch 0: 59991.546875\n",
      "Total num output samples in dev iteration 323, epoch 0: 229248\n",
      "Total neg log likelihood in dev iteration 323, epoch 0: 63296.67578125\n",
      "Total num output samples in dev iteration 323, epoch 0: 241984\n",
      "Total neg log likelihood in dev iteration 323, epoch 0: 66601.734375\n",
      "Total num output samples in dev iteration 323, epoch 0: 254720\n",
      "Total neg log likelihood in dev iteration 323, epoch 0: 69684.2109375\n",
      "Total num output samples in dev iteration 323, epoch 0: 267456\n",
      "Total neg log likelihood in dev iteration 323, epoch 0: 73009.8984375\n",
      "Total num output samples in dev iteration 323, epoch 0: 280192\n",
      "Total neg log likelihood in dev iteration 323, epoch 0: 76261.0234375\n",
      "Total num output samples in dev iteration 323, epoch 0: 292928\n",
      "Total neg log likelihood in dev iteration 323, epoch 0: 79640.3984375\n",
      "Total num output samples in dev iteration 323, epoch 0: 305664\n",
      "Total neg log likelihood in dev iteration 323, epoch 0: 82742.921875\n",
      "Total num output samples in dev iteration 323, epoch 0: 318400\n",
      "Total neg log likelihood in dev iteration 323, epoch 0: 86026.296875\n",
      "Total num output samples in dev iteration 323, epoch 0: 331136\n",
      "Total neg log likelihood in dev iteration 323, epoch 0: 89269.359375\n",
      "Total num output samples in dev iteration 323, epoch 0: 343872\n",
      "Total number of validation labels: 343872\n",
      "Validation perplexity is 1.2963999509811401\n",
      "[TensorShape([45087, 256]), TensorShape([256, 7]), TensorShape([1, 7]), TensorShape([256, 512]), TensorShape([512, 512]), TensorShape([1, 512]), TensorShape([512]), TensorShape([256, 256]), TensorShape([512, 256]), TensorShape([256, 256]), TensorShape([1, 256]), TensorShape([512, 512]), TensorShape([256, 512]), TensorShape([1, 512]), TensorShape([512, 256]), TensorShape([256, 256]), TensorShape([1, 256]), TensorShape([256, 512]), TensorShape([256, 512]), TensorShape([1, 512]), TensorShape([256, 256]), TensorShape([256, 256]), TensorShape([1, 256]), TensorShape([256, 512]), TensorShape([256, 512]), TensorShape([1, 512]), TensorShape([256, 256]), TensorShape([256, 256]), TensorShape([1, 256])]\n",
      "PPL: 1.2750; Speed: 15154.42 sps\n",
      "PPL: 1.2652; Speed: 15204.02 sps\n",
      "PPL: 1.2563; Speed: 15225.68 sps\n",
      "Total number of training labels: 4113728\n",
      "Total neg log likelihood in dev iteration 323, epoch 1: 2611.953125\n",
      "Total num output samples in dev iteration 323, epoch 1: 12736\n",
      "Total neg log likelihood in dev iteration 323, epoch 1: 4975.78466796875\n",
      "Total num output samples in dev iteration 323, epoch 1: 25472\n",
      "Total neg log likelihood in dev iteration 323, epoch 1: 7508.17578125\n",
      "Total num output samples in dev iteration 323, epoch 1: 38208\n",
      "Total neg log likelihood in dev iteration 323, epoch 1: 10072.677734375\n",
      "Total num output samples in dev iteration 323, epoch 1: 50944\n",
      "Total neg log likelihood in dev iteration 323, epoch 1: 12639.939453125\n",
      "Total num output samples in dev iteration 323, epoch 1: 63680\n",
      "Total neg log likelihood in dev iteration 323, epoch 1: 14964.54296875\n",
      "Total num output samples in dev iteration 323, epoch 1: 76416\n",
      "Total neg log likelihood in dev iteration 323, epoch 1: 17403.63671875\n",
      "Total num output samples in dev iteration 323, epoch 1: 89152\n",
      "Total neg log likelihood in dev iteration 323, epoch 1: 19783.166015625\n",
      "Total num output samples in dev iteration 323, epoch 1: 101888\n",
      "Total neg log likelihood in dev iteration 323, epoch 1: 22295.859375\n",
      "Total num output samples in dev iteration 323, epoch 1: 114624\n",
      "Total neg log likelihood in dev iteration 323, epoch 1: 24634.359375\n",
      "Total num output samples in dev iteration 323, epoch 1: 127360\n",
      "Total neg log likelihood in dev iteration 323, epoch 1: 27422.095703125\n",
      "Total num output samples in dev iteration 323, epoch 1: 140096\n",
      "Total neg log likelihood in dev iteration 323, epoch 1: 30189.287109375\n",
      "Total num output samples in dev iteration 323, epoch 1: 152832\n",
      "Total neg log likelihood in dev iteration 323, epoch 1: 32835.140625\n",
      "Total num output samples in dev iteration 323, epoch 1: 165568\n",
      "Total neg log likelihood in dev iteration 323, epoch 1: 35333.1171875\n",
      "Total num output samples in dev iteration 323, epoch 1: 178304\n",
      "Total neg log likelihood in dev iteration 323, epoch 1: 38606.83203125\n",
      "Total num output samples in dev iteration 323, epoch 1: 191040\n",
      "Total neg log likelihood in dev iteration 323, epoch 1: 41376.73046875\n",
      "Total num output samples in dev iteration 323, epoch 1: 203776\n",
      "Total neg log likelihood in dev iteration 323, epoch 1: 43972.2578125\n",
      "Total num output samples in dev iteration 323, epoch 1: 216512\n",
      "Total neg log likelihood in dev iteration 323, epoch 1: 47015.0859375\n",
      "Total num output samples in dev iteration 323, epoch 1: 229248\n",
      "Total neg log likelihood in dev iteration 323, epoch 1: 49667.3515625\n",
      "Total num output samples in dev iteration 323, epoch 1: 241984\n",
      "Total neg log likelihood in dev iteration 323, epoch 1: 52220.95703125\n",
      "Total num output samples in dev iteration 323, epoch 1: 254720\n",
      "Total neg log likelihood in dev iteration 323, epoch 1: 54594.12890625\n",
      "Total num output samples in dev iteration 323, epoch 1: 267456\n",
      "Total neg log likelihood in dev iteration 323, epoch 1: 57228.3046875\n",
      "Total num output samples in dev iteration 323, epoch 1: 280192\n",
      "Total neg log likelihood in dev iteration 323, epoch 1: 59855.18359375\n",
      "Total num output samples in dev iteration 323, epoch 1: 292928\n",
      "Total neg log likelihood in dev iteration 323, epoch 1: 62538.375\n",
      "Total num output samples in dev iteration 323, epoch 1: 305664\n",
      "Total neg log likelihood in dev iteration 323, epoch 1: 64977.1171875\n",
      "Total num output samples in dev iteration 323, epoch 1: 318400\n",
      "Total neg log likelihood in dev iteration 323, epoch 1: 67562.0390625\n",
      "Total num output samples in dev iteration 323, epoch 1: 331136\n",
      "Total neg log likelihood in dev iteration 323, epoch 1: 70141.25\n",
      "Total num output samples in dev iteration 323, epoch 1: 343872\n",
      "Total number of validation labels: 343872\n",
      "Validation perplexity is 1.2263000011444092\n",
      "[TensorShape([45087, 256]), TensorShape([256, 7]), TensorShape([1, 7]), TensorShape([256, 512]), TensorShape([512, 512]), TensorShape([1, 512]), TensorShape([512]), TensorShape([256, 256]), TensorShape([512, 256]), TensorShape([256, 256]), TensorShape([1, 256]), TensorShape([512, 512]), TensorShape([256, 512]), TensorShape([1, 512]), TensorShape([512, 256]), TensorShape([256, 256]), TensorShape([1, 256]), TensorShape([256, 512]), TensorShape([256, 512]), TensorShape([1, 512]), TensorShape([256, 256]), TensorShape([256, 256]), TensorShape([1, 256]), TensorShape([256, 512]), TensorShape([256, 512]), TensorShape([1, 512]), TensorShape([256, 256]), TensorShape([256, 256]), TensorShape([1, 256])]\n",
      "PPL: 1.2045; Speed: 15150.01 sps\n",
      "PPL: 1.2014; Speed: 15196.61 sps\n",
      "PPL: 1.1977; Speed: 15220.71 sps\n",
      "Total number of training labels: 4113728\n",
      "Total neg log likelihood in dev iteration 323, epoch 2: 2229.62158203125\n",
      "Total num output samples in dev iteration 323, epoch 2: 12736\n",
      "Total neg log likelihood in dev iteration 323, epoch 2: 4278.7353515625\n",
      "Total num output samples in dev iteration 323, epoch 2: 25472\n",
      "Total neg log likelihood in dev iteration 323, epoch 2: 6425.8076171875\n",
      "Total num output samples in dev iteration 323, epoch 2: 38208\n",
      "Total neg log likelihood in dev iteration 323, epoch 2: 8600.3486328125\n",
      "Total num output samples in dev iteration 323, epoch 2: 50944\n",
      "Total neg log likelihood in dev iteration 323, epoch 2: 10796.23046875\n",
      "Total num output samples in dev iteration 323, epoch 2: 63680\n",
      "Total neg log likelihood in dev iteration 323, epoch 2: 12758.75390625\n",
      "Total num output samples in dev iteration 323, epoch 2: 76416\n",
      "Total neg log likelihood in dev iteration 323, epoch 2: 14925.78515625\n",
      "Total num output samples in dev iteration 323, epoch 2: 89152\n",
      "Total neg log likelihood in dev iteration 323, epoch 2: 16951.140625\n",
      "Total num output samples in dev iteration 323, epoch 2: 101888\n",
      "Total neg log likelihood in dev iteration 323, epoch 2: 19061.11328125\n",
      "Total num output samples in dev iteration 323, epoch 2: 114624\n",
      "Total neg log likelihood in dev iteration 323, epoch 2: 21093.23828125\n",
      "Total num output samples in dev iteration 323, epoch 2: 127360\n",
      "Total neg log likelihood in dev iteration 323, epoch 2: 23477.8984375\n",
      "Total num output samples in dev iteration 323, epoch 2: 140096\n",
      "Total neg log likelihood in dev iteration 323, epoch 2: 25872.890625\n",
      "Total num output samples in dev iteration 323, epoch 2: 152832\n",
      "Total neg log likelihood in dev iteration 323, epoch 2: 28190.775390625\n",
      "Total num output samples in dev iteration 323, epoch 2: 165568\n",
      "Total neg log likelihood in dev iteration 323, epoch 2: 30405.009765625\n",
      "Total num output samples in dev iteration 323, epoch 2: 178304\n",
      "Total neg log likelihood in dev iteration 323, epoch 2: 33223.08984375\n",
      "Total num output samples in dev iteration 323, epoch 2: 191040\n",
      "Total neg log likelihood in dev iteration 323, epoch 2: 35605.98828125\n",
      "Total num output samples in dev iteration 323, epoch 2: 203776\n",
      "Total neg log likelihood in dev iteration 323, epoch 2: 37883.19140625\n",
      "Total num output samples in dev iteration 323, epoch 2: 216512\n",
      "Total neg log likelihood in dev iteration 323, epoch 2: 40514.15625\n",
      "Total num output samples in dev iteration 323, epoch 2: 229248\n",
      "Total neg log likelihood in dev iteration 323, epoch 2: 42787.265625\n",
      "Total num output samples in dev iteration 323, epoch 2: 241984\n",
      "Total neg log likelihood in dev iteration 323, epoch 2: 44965.61328125\n",
      "Total num output samples in dev iteration 323, epoch 2: 254720\n",
      "Total neg log likelihood in dev iteration 323, epoch 2: 46951.7421875\n",
      "Total num output samples in dev iteration 323, epoch 2: 267456\n",
      "Total neg log likelihood in dev iteration 323, epoch 2: 49183.83984375\n",
      "Total num output samples in dev iteration 323, epoch 2: 280192\n",
      "Total neg log likelihood in dev iteration 323, epoch 2: 51516.4453125\n",
      "Total num output samples in dev iteration 323, epoch 2: 292928\n",
      "Total neg log likelihood in dev iteration 323, epoch 2: 53832.97265625\n",
      "Total num output samples in dev iteration 323, epoch 2: 305664\n",
      "Total neg log likelihood in dev iteration 323, epoch 2: 55972.17578125\n",
      "Total num output samples in dev iteration 323, epoch 2: 318400\n",
      "Total neg log likelihood in dev iteration 323, epoch 2: 58180.24609375\n",
      "Total num output samples in dev iteration 323, epoch 2: 331136\n",
      "Total neg log likelihood in dev iteration 323, epoch 2: 60377.1640625\n",
      "Total num output samples in dev iteration 323, epoch 2: 343872\n",
      "Total number of validation labels: 343872\n",
      "Validation perplexity is 1.1919000148773193\n",
      "[TensorShape([45087, 256]), TensorShape([256, 7]), TensorShape([1, 7]), TensorShape([256, 512]), TensorShape([512, 512]), TensorShape([1, 512]), TensorShape([512]), TensorShape([256, 256]), TensorShape([512, 256]), TensorShape([256, 256]), TensorShape([1, 256]), TensorShape([512, 512]), TensorShape([256, 512]), TensorShape([1, 512]), TensorShape([512, 256]), TensorShape([256, 256]), TensorShape([1, 256]), TensorShape([256, 512]), TensorShape([256, 512]), TensorShape([1, 512]), TensorShape([256, 256]), TensorShape([256, 256]), TensorShape([1, 256]), TensorShape([256, 512]), TensorShape([256, 512]), TensorShape([1, 512]), TensorShape([256, 256]), TensorShape([256, 256]), TensorShape([1, 256])]\n",
      "PPL: 1.1611; Speed: 15159.31 sps\n",
      "PPL: 1.1593; Speed: 15209.20 sps\n",
      "PPL: 1.1576; Speed: 15222.37 sps\n",
      "Total number of training labels: 4113728\n",
      "Total neg log likelihood in dev iteration 323, epoch 3: 1936.87060546875\n",
      "Total num output samples in dev iteration 323, epoch 3: 12736\n",
      "Total neg log likelihood in dev iteration 323, epoch 3: 3608.28857421875\n",
      "Total num output samples in dev iteration 323, epoch 3: 25472\n",
      "Total neg log likelihood in dev iteration 323, epoch 3: 5537.85986328125\n",
      "Total num output samples in dev iteration 323, epoch 3: 38208\n",
      "Total neg log likelihood in dev iteration 323, epoch 3: 7371.5830078125\n",
      "Total num output samples in dev iteration 323, epoch 3: 50944\n",
      "Total neg log likelihood in dev iteration 323, epoch 3: 9225.818359375\n",
      "Total num output samples in dev iteration 323, epoch 3: 63680\n",
      "Total neg log likelihood in dev iteration 323, epoch 3: 10848.025390625\n",
      "Total num output samples in dev iteration 323, epoch 3: 76416\n",
      "Total neg log likelihood in dev iteration 323, epoch 3: 12723.287109375\n",
      "Total num output samples in dev iteration 323, epoch 3: 89152\n",
      "Total neg log likelihood in dev iteration 323, epoch 3: 14391.0576171875\n",
      "Total num output samples in dev iteration 323, epoch 3: 101888\n",
      "Total neg log likelihood in dev iteration 323, epoch 3: 16198.31640625\n",
      "Total num output samples in dev iteration 323, epoch 3: 114624\n",
      "Total neg log likelihood in dev iteration 323, epoch 3: 17936.453125\n",
      "Total num output samples in dev iteration 323, epoch 3: 127360\n",
      "Total neg log likelihood in dev iteration 323, epoch 3: 19973.4140625\n",
      "Total num output samples in dev iteration 323, epoch 3: 140096\n",
      "Total neg log likelihood in dev iteration 323, epoch 3: 22027.42578125\n",
      "Total num output samples in dev iteration 323, epoch 3: 152832\n",
      "Total neg log likelihood in dev iteration 323, epoch 3: 23921.857421875\n",
      "Total num output samples in dev iteration 323, epoch 3: 165568\n",
      "Total neg log likelihood in dev iteration 323, epoch 3: 25874.552734375\n",
      "Total num output samples in dev iteration 323, epoch 3: 178304\n",
      "Total neg log likelihood in dev iteration 323, epoch 3: 28229.595703125\n",
      "Total num output samples in dev iteration 323, epoch 3: 191040\n",
      "Total neg log likelihood in dev iteration 323, epoch 3: 30319.240234375\n",
      "Total num output samples in dev iteration 323, epoch 3: 203776\n",
      "Total neg log likelihood in dev iteration 323, epoch 3: 32265.09375\n",
      "Total num output samples in dev iteration 323, epoch 3: 216512\n",
      "Total neg log likelihood in dev iteration 323, epoch 3: 34604.27734375\n",
      "Total num output samples in dev iteration 323, epoch 3: 229248\n",
      "Total neg log likelihood in dev iteration 323, epoch 3: 36540.72265625\n",
      "Total num output samples in dev iteration 323, epoch 3: 241984\n",
      "Total neg log likelihood in dev iteration 323, epoch 3: 38426.75\n",
      "Total num output samples in dev iteration 323, epoch 3: 254720\n",
      "Total neg log likelihood in dev iteration 323, epoch 3: 40133.45703125\n",
      "Total num output samples in dev iteration 323, epoch 3: 267456\n",
      "Total neg log likelihood in dev iteration 323, epoch 3: 42110.52734375\n",
      "Total num output samples in dev iteration 323, epoch 3: 280192\n",
      "Total neg log likelihood in dev iteration 323, epoch 3: 44187.81640625\n",
      "Total num output samples in dev iteration 323, epoch 3: 292928\n",
      "Total neg log likelihood in dev iteration 323, epoch 3: 46172.21875\n",
      "Total num output samples in dev iteration 323, epoch 3: 305664\n",
      "Total neg log likelihood in dev iteration 323, epoch 3: 47923.3515625\n",
      "Total num output samples in dev iteration 323, epoch 3: 318400\n",
      "Total neg log likelihood in dev iteration 323, epoch 3: 49881.05078125\n",
      "Total num output samples in dev iteration 323, epoch 3: 331136\n",
      "Total neg log likelihood in dev iteration 323, epoch 3: 51768.515625\n",
      "Total num output samples in dev iteration 323, epoch 3: 343872\n",
      "Total number of validation labels: 343872\n",
      "Validation perplexity is 1.162500023841858\n",
      "[TensorShape([45087, 256]), TensorShape([256, 7]), TensorShape([1, 7]), TensorShape([256, 512]), TensorShape([512, 512]), TensorShape([1, 512]), TensorShape([512]), TensorShape([256, 256]), TensorShape([512, 256]), TensorShape([256, 256]), TensorShape([1, 256]), TensorShape([512, 512]), TensorShape([256, 512]), TensorShape([1, 512]), TensorShape([512, 256]), TensorShape([256, 256]), TensorShape([1, 256]), TensorShape([256, 512]), TensorShape([256, 512]), TensorShape([1, 512]), TensorShape([256, 256]), TensorShape([256, 256]), TensorShape([1, 256]), TensorShape([256, 512]), TensorShape([256, 512]), TensorShape([1, 512]), TensorShape([256, 256]), TensorShape([256, 256]), TensorShape([1, 256])]\n",
      "PPL: 1.1265; Speed: 15201.70 sps\n",
      "PPL: 1.1260; Speed: 15236.01 sps\n",
      "PPL: 1.1251; Speed: 15246.19 sps\n",
      "Total number of training labels: 4113728\n",
      "Total neg log likelihood in dev iteration 323, epoch 4: 1671.848876953125\n",
      "Total num output samples in dev iteration 323, epoch 4: 12736\n",
      "Total neg log likelihood in dev iteration 323, epoch 4: 3220.705322265625\n",
      "Total num output samples in dev iteration 323, epoch 4: 25472\n",
      "Total neg log likelihood in dev iteration 323, epoch 4: 4880.056640625\n",
      "Total num output samples in dev iteration 323, epoch 4: 38208\n",
      "Total neg log likelihood in dev iteration 323, epoch 4: 6490.203125\n",
      "Total num output samples in dev iteration 323, epoch 4: 50944\n",
      "Total neg log likelihood in dev iteration 323, epoch 4: 8080.03515625\n",
      "Total num output samples in dev iteration 323, epoch 4: 63680\n",
      "Total neg log likelihood in dev iteration 323, epoch 4: 9470.548828125\n",
      "Total num output samples in dev iteration 323, epoch 4: 76416\n",
      "Total neg log likelihood in dev iteration 323, epoch 4: 11145.31640625\n",
      "Total num output samples in dev iteration 323, epoch 4: 89152\n",
      "Total neg log likelihood in dev iteration 323, epoch 4: 12641.3193359375\n",
      "Total num output samples in dev iteration 323, epoch 4: 101888\n",
      "Total neg log likelihood in dev iteration 323, epoch 4: 14240.3681640625\n",
      "Total num output samples in dev iteration 323, epoch 4: 114624\n",
      "Total neg log likelihood in dev iteration 323, epoch 4: 15738.458984375\n",
      "Total num output samples in dev iteration 323, epoch 4: 127360\n",
      "Total neg log likelihood in dev iteration 323, epoch 4: 17530.916015625\n",
      "Total num output samples in dev iteration 323, epoch 4: 140096\n",
      "Total neg log likelihood in dev iteration 323, epoch 4: 19419.849609375\n",
      "Total num output samples in dev iteration 323, epoch 4: 152832\n",
      "Total neg log likelihood in dev iteration 323, epoch 4: 21116.955078125\n",
      "Total num output samples in dev iteration 323, epoch 4: 165568\n",
      "Total neg log likelihood in dev iteration 323, epoch 4: 22866.044921875\n",
      "Total num output samples in dev iteration 323, epoch 4: 178304\n",
      "Total neg log likelihood in dev iteration 323, epoch 4: 24905.708984375\n",
      "Total num output samples in dev iteration 323, epoch 4: 191040\n",
      "Total neg log likelihood in dev iteration 323, epoch 4: 26719.337890625\n",
      "Total num output samples in dev iteration 323, epoch 4: 203776\n",
      "Total neg log likelihood in dev iteration 323, epoch 4: 28448.6484375\n",
      "Total num output samples in dev iteration 323, epoch 4: 216512\n",
      "Total neg log likelihood in dev iteration 323, epoch 4: 30434.787109375\n",
      "Total num output samples in dev iteration 323, epoch 4: 229248\n",
      "Total neg log likelihood in dev iteration 323, epoch 4: 32092.603515625\n",
      "Total num output samples in dev iteration 323, epoch 4: 241984\n",
      "Total neg log likelihood in dev iteration 323, epoch 4: 33690.1953125\n",
      "Total num output samples in dev iteration 323, epoch 4: 254720\n",
      "Total neg log likelihood in dev iteration 323, epoch 4: 35148.046875\n",
      "Total num output samples in dev iteration 323, epoch 4: 267456\n",
      "Total neg log likelihood in dev iteration 323, epoch 4: 36829.2734375\n",
      "Total num output samples in dev iteration 323, epoch 4: 280192\n",
      "Total neg log likelihood in dev iteration 323, epoch 4: 38650.4609375\n",
      "Total num output samples in dev iteration 323, epoch 4: 292928\n",
      "Total neg log likelihood in dev iteration 323, epoch 4: 40348.5546875\n",
      "Total num output samples in dev iteration 323, epoch 4: 305664\n",
      "Total neg log likelihood in dev iteration 323, epoch 4: 41893.89453125\n",
      "Total num output samples in dev iteration 323, epoch 4: 318400\n",
      "Total neg log likelihood in dev iteration 323, epoch 4: 43660.8828125\n",
      "Total num output samples in dev iteration 323, epoch 4: 331136\n",
      "Total neg log likelihood in dev iteration 323, epoch 4: 45283.328125\n",
      "Total num output samples in dev iteration 323, epoch 4: 343872\n",
      "Total number of validation labels: 343872\n",
      "Validation perplexity is 1.1407999992370605\n",
      "[TensorShape([45087, 256]), TensorShape([256, 7]), TensorShape([1, 7]), TensorShape([256, 512]), TensorShape([512, 512]), TensorShape([1, 512]), TensorShape([512]), TensorShape([256, 256]), TensorShape([512, 256]), TensorShape([256, 256]), TensorShape([1, 256]), TensorShape([512, 512]), TensorShape([256, 512]), TensorShape([1, 512]), TensorShape([512, 256]), TensorShape([256, 256]), TensorShape([1, 256]), TensorShape([256, 512]), TensorShape([256, 512]), TensorShape([1, 512]), TensorShape([256, 256]), TensorShape([256, 256]), TensorShape([1, 256]), TensorShape([256, 512]), TensorShape([256, 512]), TensorShape([1, 512]), TensorShape([256, 256]), TensorShape([256, 256]), TensorShape([1, 256])]\n",
      "PPL: 1.0992; Speed: 15157.53 sps\n",
      "PPL: 1.0987; Speed: 15205.19 sps\n",
      "PPL: 1.0983; Speed: 15230.16 sps\n",
      "Total number of training labels: 4113728\n",
      "Total neg log likelihood in dev iteration 323, epoch 5: 1533.228515625\n",
      "Total num output samples in dev iteration 323, epoch 5: 12736\n",
      "Total neg log likelihood in dev iteration 323, epoch 5: 2851.708251953125\n",
      "Total num output samples in dev iteration 323, epoch 5: 25472\n",
      "Total neg log likelihood in dev iteration 323, epoch 5: 4313.78271484375\n",
      "Total num output samples in dev iteration 323, epoch 5: 38208\n",
      "Total neg log likelihood in dev iteration 323, epoch 5: 5617.04296875\n",
      "Total num output samples in dev iteration 323, epoch 5: 50944\n",
      "Total neg log likelihood in dev iteration 323, epoch 5: 7008.6015625\n",
      "Total num output samples in dev iteration 323, epoch 5: 63680\n",
      "Total neg log likelihood in dev iteration 323, epoch 5: 8216.052734375\n",
      "Total num output samples in dev iteration 323, epoch 5: 76416\n",
      "Total neg log likelihood in dev iteration 323, epoch 5: 9689.3486328125\n",
      "Total num output samples in dev iteration 323, epoch 5: 89152\n",
      "Total neg log likelihood in dev iteration 323, epoch 5: 11010.2021484375\n",
      "Total num output samples in dev iteration 323, epoch 5: 101888\n",
      "Total neg log likelihood in dev iteration 323, epoch 5: 12368.9951171875\n",
      "Total num output samples in dev iteration 323, epoch 5: 114624\n",
      "Total neg log likelihood in dev iteration 323, epoch 5: 13643.8828125\n",
      "Total num output samples in dev iteration 323, epoch 5: 127360\n",
      "Total neg log likelihood in dev iteration 323, epoch 5: 15185.41796875\n",
      "Total num output samples in dev iteration 323, epoch 5: 140096\n",
      "Total neg log likelihood in dev iteration 323, epoch 5: 16811.9453125\n",
      "Total num output samples in dev iteration 323, epoch 5: 152832\n",
      "Total neg log likelihood in dev iteration 323, epoch 5: 18313.60546875\n",
      "Total num output samples in dev iteration 323, epoch 5: 165568\n",
      "Total neg log likelihood in dev iteration 323, epoch 5: 19852.060546875\n",
      "Total num output samples in dev iteration 323, epoch 5: 178304\n",
      "Total neg log likelihood in dev iteration 323, epoch 5: 21517.736328125\n",
      "Total num output samples in dev iteration 323, epoch 5: 191040\n",
      "Total neg log likelihood in dev iteration 323, epoch 5: 23095.583984375\n",
      "Total num output samples in dev iteration 323, epoch 5: 203776\n",
      "Total neg log likelihood in dev iteration 323, epoch 5: 24567.8671875\n",
      "Total num output samples in dev iteration 323, epoch 5: 216512\n",
      "Total neg log likelihood in dev iteration 323, epoch 5: 26353.34375\n",
      "Total num output samples in dev iteration 323, epoch 5: 229248\n",
      "Total neg log likelihood in dev iteration 323, epoch 5: 27725.3203125\n",
      "Total num output samples in dev iteration 323, epoch 5: 241984\n",
      "Total neg log likelihood in dev iteration 323, epoch 5: 29053.44921875\n",
      "Total num output samples in dev iteration 323, epoch 5: 254720\n",
      "Total neg log likelihood in dev iteration 323, epoch 5: 30259.873046875\n",
      "Total num output samples in dev iteration 323, epoch 5: 267456\n",
      "Total neg log likelihood in dev iteration 323, epoch 5: 31674.609375\n",
      "Total num output samples in dev iteration 323, epoch 5: 280192\n",
      "Total neg log likelihood in dev iteration 323, epoch 5: 33291.9765625\n",
      "Total num output samples in dev iteration 323, epoch 5: 292928\n",
      "Total neg log likelihood in dev iteration 323, epoch 5: 34801.73828125\n",
      "Total num output samples in dev iteration 323, epoch 5: 305664\n",
      "Total neg log likelihood in dev iteration 323, epoch 5: 36131.2734375\n",
      "Total num output samples in dev iteration 323, epoch 5: 318400\n",
      "Total neg log likelihood in dev iteration 323, epoch 5: 37654.828125\n",
      "Total num output samples in dev iteration 323, epoch 5: 331136\n",
      "Total neg log likelihood in dev iteration 323, epoch 5: 39057.3984375\n",
      "Total num output samples in dev iteration 323, epoch 5: 343872\n",
      "Total number of validation labels: 343872\n",
      "Validation perplexity is 1.120300054550171\n",
      "[TensorShape([45087, 256]), TensorShape([256, 7]), TensorShape([1, 7]), TensorShape([256, 512]), TensorShape([512, 512]), TensorShape([1, 512]), TensorShape([512]), TensorShape([256, 256]), TensorShape([512, 256]), TensorShape([256, 256]), TensorShape([1, 256]), TensorShape([512, 512]), TensorShape([256, 512]), TensorShape([1, 512]), TensorShape([512, 256]), TensorShape([256, 256]), TensorShape([1, 256]), TensorShape([256, 512]), TensorShape([256, 512]), TensorShape([1, 512]), TensorShape([256, 256]), TensorShape([256, 256]), TensorShape([1, 256]), TensorShape([256, 512]), TensorShape([256, 512]), TensorShape([1, 512]), TensorShape([256, 256]), TensorShape([256, 256]), TensorShape([1, 256])]\n",
      "PPL: 1.0761; Speed: 15180.55 sps\n",
      "PPL: 1.0764; Speed: 15220.63 sps\n",
      "PPL: 1.0767; Speed: 15246.80 sps\n",
      "Total number of training labels: 4113728\n",
      "Total neg log likelihood in dev iteration 323, epoch 6: 1339.527587890625\n",
      "Total num output samples in dev iteration 323, epoch 6: 12736\n",
      "Total neg log likelihood in dev iteration 323, epoch 6: 2467.34521484375\n",
      "Total num output samples in dev iteration 323, epoch 6: 25472\n",
      "Total neg log likelihood in dev iteration 323, epoch 6: 3649.593994140625\n",
      "Total num output samples in dev iteration 323, epoch 6: 38208\n",
      "Total neg log likelihood in dev iteration 323, epoch 6: 4752.431640625\n",
      "Total num output samples in dev iteration 323, epoch 6: 50944\n",
      "Total neg log likelihood in dev iteration 323, epoch 6: 5893.9013671875\n",
      "Total num output samples in dev iteration 323, epoch 6: 63680\n",
      "Total neg log likelihood in dev iteration 323, epoch 6: 6879.14892578125\n",
      "Total num output samples in dev iteration 323, epoch 6: 76416\n",
      "Total neg log likelihood in dev iteration 323, epoch 6: 8123.3662109375\n",
      "Total num output samples in dev iteration 323, epoch 6: 89152\n",
      "Total neg log likelihood in dev iteration 323, epoch 6: 9229.6025390625\n",
      "Total num output samples in dev iteration 323, epoch 6: 101888\n",
      "Total neg log likelihood in dev iteration 323, epoch 6: 10409.4111328125\n",
      "Total num output samples in dev iteration 323, epoch 6: 114624\n",
      "Total neg log likelihood in dev iteration 323, epoch 6: 11476.1884765625\n",
      "Total num output samples in dev iteration 323, epoch 6: 127360\n",
      "Total neg log likelihood in dev iteration 323, epoch 6: 12796.265625\n",
      "Total num output samples in dev iteration 323, epoch 6: 140096\n",
      "Total neg log likelihood in dev iteration 323, epoch 6: 14168.05859375\n",
      "Total num output samples in dev iteration 323, epoch 6: 152832\n",
      "Total neg log likelihood in dev iteration 323, epoch 6: 15374.541015625\n",
      "Total num output samples in dev iteration 323, epoch 6: 165568\n",
      "Total neg log likelihood in dev iteration 323, epoch 6: 16688.10546875\n",
      "Total num output samples in dev iteration 323, epoch 6: 178304\n",
      "Total neg log likelihood in dev iteration 323, epoch 6: 18107.328125\n",
      "Total num output samples in dev iteration 323, epoch 6: 191040\n",
      "Total neg log likelihood in dev iteration 323, epoch 6: 19362.96875\n",
      "Total num output samples in dev iteration 323, epoch 6: 203776\n",
      "Total neg log likelihood in dev iteration 323, epoch 6: 20637.80859375\n",
      "Total num output samples in dev iteration 323, epoch 6: 216512\n",
      "Total neg log likelihood in dev iteration 323, epoch 6: 22079.86328125\n",
      "Total num output samples in dev iteration 323, epoch 6: 229248\n",
      "Total neg log likelihood in dev iteration 323, epoch 6: 23288.41796875\n",
      "Total num output samples in dev iteration 323, epoch 6: 241984\n",
      "Total neg log likelihood in dev iteration 323, epoch 6: 24391.73046875\n",
      "Total num output samples in dev iteration 323, epoch 6: 254720\n",
      "Total neg log likelihood in dev iteration 323, epoch 6: 25438.2578125\n",
      "Total num output samples in dev iteration 323, epoch 6: 267456\n",
      "Total neg log likelihood in dev iteration 323, epoch 6: 26592.794921875\n",
      "Total num output samples in dev iteration 323, epoch 6: 280192\n",
      "Total neg log likelihood in dev iteration 323, epoch 6: 27972.685546875\n",
      "Total num output samples in dev iteration 323, epoch 6: 292928\n",
      "Total neg log likelihood in dev iteration 323, epoch 6: 29209.419921875\n",
      "Total num output samples in dev iteration 323, epoch 6: 305664\n",
      "Total neg log likelihood in dev iteration 323, epoch 6: 30303.896484375\n",
      "Total num output samples in dev iteration 323, epoch 6: 318400\n",
      "Total neg log likelihood in dev iteration 323, epoch 6: 31573.23046875\n",
      "Total num output samples in dev iteration 323, epoch 6: 331136\n",
      "Total neg log likelihood in dev iteration 323, epoch 6: 32709.59375\n",
      "Total num output samples in dev iteration 323, epoch 6: 343872\n",
      "Total number of validation labels: 343872\n",
      "Validation perplexity is 1.0997999906539917\n",
      "[TensorShape([45087, 256]), TensorShape([256, 7]), TensorShape([1, 7]), TensorShape([256, 512]), TensorShape([512, 512]), TensorShape([1, 512]), TensorShape([512]), TensorShape([256, 256]), TensorShape([512, 256]), TensorShape([256, 256]), TensorShape([1, 256]), TensorShape([512, 512]), TensorShape([256, 512]), TensorShape([1, 512]), TensorShape([512, 256]), TensorShape([256, 256]), TensorShape([1, 256]), TensorShape([256, 512]), TensorShape([256, 512]), TensorShape([1, 512]), TensorShape([256, 256]), TensorShape([256, 256]), TensorShape([1, 256]), TensorShape([256, 512]), TensorShape([256, 512]), TensorShape([1, 512]), TensorShape([256, 256]), TensorShape([256, 256]), TensorShape([1, 256])]\n",
      "PPL: 1.0581; Speed: 15181.81 sps\n",
      "PPL: 1.0588; Speed: 15222.54 sps\n",
      "PPL: 1.0591; Speed: 15249.55 sps\n",
      "Total number of training labels: 4113728\n",
      "Total neg log likelihood in dev iteration 323, epoch 7: 1163.448974609375\n",
      "Total num output samples in dev iteration 323, epoch 7: 12736\n",
      "Total neg log likelihood in dev iteration 323, epoch 7: 2125.923828125\n",
      "Total num output samples in dev iteration 323, epoch 7: 25472\n",
      "Total neg log likelihood in dev iteration 323, epoch 7: 3218.59326171875\n",
      "Total num output samples in dev iteration 323, epoch 7: 38208\n",
      "Total neg log likelihood in dev iteration 323, epoch 7: 4235.8623046875\n",
      "Total num output samples in dev iteration 323, epoch 7: 50944\n",
      "Total neg log likelihood in dev iteration 323, epoch 7: 5242.73583984375\n",
      "Total num output samples in dev iteration 323, epoch 7: 63680\n",
      "Total neg log likelihood in dev iteration 323, epoch 7: 6091.85302734375\n",
      "Total num output samples in dev iteration 323, epoch 7: 76416\n",
      "Total neg log likelihood in dev iteration 323, epoch 7: 7187.97705078125\n",
      "Total num output samples in dev iteration 323, epoch 7: 89152\n",
      "Total neg log likelihood in dev iteration 323, epoch 7: 8095.84912109375\n",
      "Total num output samples in dev iteration 323, epoch 7: 101888\n",
      "Total neg log likelihood in dev iteration 323, epoch 7: 9097.0107421875\n",
      "Total num output samples in dev iteration 323, epoch 7: 114624\n",
      "Total neg log likelihood in dev iteration 323, epoch 7: 9965.720703125\n",
      "Total num output samples in dev iteration 323, epoch 7: 127360\n",
      "Total neg log likelihood in dev iteration 323, epoch 7: 11089.21875\n",
      "Total num output samples in dev iteration 323, epoch 7: 140096\n",
      "Total neg log likelihood in dev iteration 323, epoch 7: 12298.193359375\n",
      "Total num output samples in dev iteration 323, epoch 7: 152832\n",
      "Total neg log likelihood in dev iteration 323, epoch 7: 13320.1484375\n",
      "Total num output samples in dev iteration 323, epoch 7: 165568\n",
      "Total neg log likelihood in dev iteration 323, epoch 7: 14487.2421875\n",
      "Total num output samples in dev iteration 323, epoch 7: 178304\n",
      "Total neg log likelihood in dev iteration 323, epoch 7: 15660.5712890625\n",
      "Total num output samples in dev iteration 323, epoch 7: 191040\n",
      "Total neg log likelihood in dev iteration 323, epoch 7: 16730.98046875\n",
      "Total num output samples in dev iteration 323, epoch 7: 203776\n",
      "Total neg log likelihood in dev iteration 323, epoch 7: 17814.7578125\n",
      "Total num output samples in dev iteration 323, epoch 7: 216512\n",
      "Total neg log likelihood in dev iteration 323, epoch 7: 19112.580078125\n",
      "Total num output samples in dev iteration 323, epoch 7: 229248\n",
      "Total neg log likelihood in dev iteration 323, epoch 7: 20092.23828125\n",
      "Total num output samples in dev iteration 323, epoch 7: 241984\n",
      "Total neg log likelihood in dev iteration 323, epoch 7: 21017.556640625\n",
      "Total num output samples in dev iteration 323, epoch 7: 254720\n",
      "Total neg log likelihood in dev iteration 323, epoch 7: 21848.51171875\n",
      "Total num output samples in dev iteration 323, epoch 7: 267456\n",
      "Total neg log likelihood in dev iteration 323, epoch 7: 22884.923828125\n",
      "Total num output samples in dev iteration 323, epoch 7: 280192\n",
      "Total neg log likelihood in dev iteration 323, epoch 7: 24063.06640625\n",
      "Total num output samples in dev iteration 323, epoch 7: 292928\n",
      "Total neg log likelihood in dev iteration 323, epoch 7: 25154.41796875\n",
      "Total num output samples in dev iteration 323, epoch 7: 305664\n",
      "Total neg log likelihood in dev iteration 323, epoch 7: 26090.701171875\n",
      "Total num output samples in dev iteration 323, epoch 7: 318400\n",
      "Total neg log likelihood in dev iteration 323, epoch 7: 27208.423828125\n",
      "Total num output samples in dev iteration 323, epoch 7: 331136\n",
      "Total neg log likelihood in dev iteration 323, epoch 7: 28207.095703125\n",
      "Total num output samples in dev iteration 323, epoch 7: 343872\n",
      "Total number of validation labels: 343872\n",
      "Validation perplexity is 1.0855000019073486\n",
      "[TensorShape([45087, 256]), TensorShape([256, 7]), TensorShape([1, 7]), TensorShape([256, 512]), TensorShape([512, 512]), TensorShape([1, 512]), TensorShape([512]), TensorShape([256, 256]), TensorShape([512, 256]), TensorShape([256, 256]), TensorShape([1, 256]), TensorShape([512, 512]), TensorShape([256, 512]), TensorShape([1, 512]), TensorShape([512, 256]), TensorShape([256, 256]), TensorShape([1, 256]), TensorShape([256, 512]), TensorShape([256, 512]), TensorShape([1, 512]), TensorShape([256, 256]), TensorShape([256, 256]), TensorShape([1, 256]), TensorShape([256, 512]), TensorShape([256, 512]), TensorShape([1, 512]), TensorShape([256, 256]), TensorShape([256, 256]), TensorShape([1, 256])]\n"
     ]
    }
   ],
   "source": [
    "!python {settings.PUNCTUATOR2TF2_DIR}/main.py {model_name} {n_layers} {lr}"
   ]
  },
  {
   "cell_type": "code",
   "execution_count": 8,
   "metadata": {
    "id": "wBxBrfunan_h"
   },
   "outputs": [],
   "source": [
    "output_predicted_file_path = os.path.join(settings.PREDICTED_DIR,'test.{}.raw.txt'.format(model_full_name))"
   ]
  },
  {
   "cell_type": "code",
   "execution_count": 9,
   "metadata": {
    "colab": {
     "base_uri": "https://localhost:8080/",
     "height": 35
    },
    "id": "pT2ek6HnJ-FJ",
    "outputId": "88faf9f6-5018-49ee-ba71-21b284cebdae"
   },
   "outputs": [
    {
     "data": {
      "text/plain": [
       "'.\\\\predicted\\\\test.Model_punctuator_h256_lr0.02.pcl.raw.txt'"
      ]
     },
     "execution_count": 9,
     "metadata": {},
     "output_type": "execute_result"
    }
   ],
   "source": [
    "output_predicted_file_path"
   ]
  },
  {
   "cell_type": "code",
   "execution_count": 8,
   "metadata": {
    "colab": {
     "base_uri": "https://localhost:8080/"
    },
    "id": "SrmJfAWwapez",
    "outputId": "9dd43de2-f8b0-4171-f3f1-043fbb3e0d0a"
   },
   "outputs": [
    {
     "name": "stdout",
     "output_type": "stream",
     "text": [
      "Vocabulary \"data/preprocessed/vocabulary\" size: 45087\n",
      "Loading model parameters...\n",
      "2022-06-20 07:00:08.301113: W tensorflow/core/common_runtime/gpu/gpu_bfc_allocator.cc:39] Overriding allow_growth setting because the TF_FORCE_GPU_ALLOW_GROWTH environment variable is set. Original config value was 0.\n",
      "Vocabulary \"data/preprocessed/vocabulary\" size: 45087\n",
      "Vocabulary \"data/preprocessed/punctuations\" size: 7\n",
      "[TensorShape([45087, 256]), TensorShape([256, 7]), TensorShape([1, 7]), TensorShape([256, 512]), TensorShape([512, 512]), TensorShape([1, 512]), TensorShape([512]), TensorShape([256, 256]), TensorShape([512, 256]), TensorShape([256, 256]), TensorShape([1, 256]), TensorShape([512, 512]), TensorShape([256, 512]), TensorShape([1, 512]), TensorShape([512, 256]), TensorShape([256, 256]), TensorShape([1, 256]), TensorShape([256, 512]), TensorShape([256, 512]), TensorShape([1, 512]), TensorShape([256, 256]), TensorShape([256, 256]), TensorShape([1, 256]), TensorShape([256, 512]), TensorShape([256, 512]), TensorShape([1, 512]), TensorShape([256, 256]), TensorShape([256, 256]), TensorShape([1, 256])]\n",
      "Building model...\n",
      "Processing line: 0/14382\n",
      "Processing line: 1439/14382\n",
      "Processing line: 2878/14382\n",
      "Processing line: 4317/14382\n",
      "Processing line: 5756/14382\n",
      "Processing line: 7195/14382\n",
      "Processing line: 8634/14382\n",
      "Processing line: 10073/14382\n",
      "Processing line: 11512/14382\n",
      "Processing line: 12951/14382\n",
      "Processing line: 14382/14382\n",
      "Process Finished\n"
     ]
    }
   ],
   "source": [
    "!python {settings.PUNCTUATOR2TF2_DIR}/punctuator.py ./{model_full_name} {TEST_RAW_PATH} {output_predicted_file_path}"
   ]
  },
  {
   "cell_type": "code",
   "execution_count": 10,
   "metadata": {
    "id": "JJYwhrFearMT"
   },
   "outputs": [],
   "source": [
    "TEST_PREDICT_PREP_PATH  = prepare_file(output_predicted_file_path,'test.{}.prepared.txt'.format(model_full_name),lowercase=False,allow_duplicates=False,token_punct=False)"
   ]
  },
  {
   "cell_type": "code",
   "execution_count": 11,
   "metadata": {
    "colab": {
     "base_uri": "https://localhost:8080/",
     "height": 35
    },
    "id": "e1wFXR1P22lO",
    "outputId": "4219ecfe-ce6c-4b22-c5ad-a2259f82b2ed"
   },
   "outputs": [
    {
     "data": {
      "text/plain": [
       "'.\\\\data\\\\prepared\\\\test.Model_punctuator_h256_lr0.02.pcl.prepared.txt'"
      ]
     },
     "execution_count": 11,
     "metadata": {},
     "output_type": "execute_result"
    }
   ],
   "source": [
    "TEST_PREDICT_PREP_PATH"
   ]
  },
  {
   "cell_type": "code",
   "execution_count": 27,
   "metadata": {
    "colab": {
     "base_uri": "https://localhost:8080/"
    },
    "id": "IgyktXT4asz4",
    "outputId": "8d46e998-cb0d-4a96-93fa-0d91728ab3e9"
   },
   "outputs": [
    {
     "name": "stdout",
     "output_type": "stream",
     "text": [
      "Vocabulary \"data\\preprocessed\\punctuations\" size: 7\n",
      "----------------------------------------------\n",
      "PUNCTUATION      PRECISION RECALL    F-SCORE  \n",
      "?QUESTIONMARK    56.000    26.000    35.500   \n",
      ".PERIOD          75.200    95.600    84.200   \n",
      ",COMMA           75.200    64.400    69.400   \n",
      ":COLON           38.300    36.200    37.200   \n",
      "!EXCLAMATIONMARK 6.500     5.200     5.700    \n",
      ";SEMICOLON       27.700    13.600    18.300   \n",
      "----------------------------------------------\n",
      "Overall          74.000    75.700    74.800   \n",
      "Err: 5.19%\n",
      "SER: 37.6%\n"
     ]
    },
    {
     "name": "stderr",
     "output_type": "stream",
     "text": [
      "\"DOSKEY\" no se reconoce como un comando interno o externo,\n",
      "programa o archivo por lotes ejecutable.\n"
     ]
    }
   ],
   "source": [
    "!python {settings.PUNCTUATOR2TF2_DIR}/error_calculator.py {CHECK_PREP_PATH} {TEST_PREDICT_PREP_PATH}"
   ]
  },
  {
   "cell_type": "code",
   "execution_count": 12,
   "metadata": {
    "id": "PACyVs4SaZmM"
   },
   "outputs": [],
   "source": [
    "from evaluator import evaluate_punctuated, evaluate_example_from_corpus_punctuated"
   ]
  },
  {
   "cell_type": "code",
   "execution_count": 13,
   "metadata": {
    "colab": {
     "base_uri": "https://localhost:8080/"
    },
    "id": "BGHU414kawfb",
    "outputId": "cdcd231b-7e26-479a-931b-46fc150089e1"
   },
   "outputs": [
    {
     "name": "stdout",
     "output_type": "stream",
     "text": [
      "=============================================\n",
      "MÉTRICAS\n",
      "=============================================\n",
      "precision global:  0.8054559016801052\n",
      "recall global:  0.7122082979993091\n",
      "F1 global:  0.7559674623283105\n",
      "=============================================\n",
      "precision media:  0.8582916483488884\n",
      "recall medio:  0.7930794312787979\n",
      "F1 medio:  0.8243979330161767\n",
      "=============================================\n",
      "rendimiento:  0.3415380336531776\n",
      "=============================================\n",
      "número de instancias en el corpus:  14382\n",
      "=============================================\n"
     ]
    },
    {
     "data": {
      "text/plain": [
       "{'precision_global': 0.8054559016801052,\n",
       " 'recall_global': 0.7122082979993091,\n",
       " 'F1_global': 0.7559674623283105,\n",
       " 'precision_mean': 0.8582916483488884,\n",
       " 'recall_mean': 0.7930794312787979,\n",
       " 'F1_mean': 0.8243979330161767,\n",
       " 'score': 0.3415380336531776}"
      ]
     },
     "execution_count": 13,
     "metadata": {},
     "output_type": "execute_result"
    }
   ],
   "source": [
    "evaluate_punctuated(CHECK_PREP_PATH,TEST_RAW_PATH,TEST_PREDICT_PREP_PATH,prepared=True)"
   ]
  },
  {
   "cell_type": "code",
   "execution_count": 14,
   "metadata": {
    "id": "N-rTszQTOSdS"
   },
   "outputs": [
    {
     "name": "stdout",
     "output_type": "stream",
     "text": [
      "TEST LINE: \n",
      "  we made the ocean unhappy we made people very unhappy and we made them unhealthy\n",
      "MODEL PUNCTUATED LINE: \n",
      "  We made the ocean unhappy. We made people very unhappy, and we made them unhealthy.\n",
      "VALIDATION LINE: \n",
      "  We made the ocean unhappy; we made people very unhappy, and we made them unhealthy. \n",
      "\n",
      "Modificaciones necesarias:  {('S', 0), ('I', 15), ('I', 10), ('I', 5)}\n",
      "Modificaciones hechas por el modelo:  {('S', 0), ('I', 10), ('S', 5), ('I', 15), ('I', 5)}\n",
      "Diferencias entre modelo y validación:  {('S', 5), ('S', 6)} \n",
      "\n",
      "n_hechas (Núm. de modificaciones hechas por el modelo):  5\n",
      "n_correctas (Núm. de modificaciones correctas: \n",
      " interseccion(hechas,necesarias) - error de sustitucion de signo):  3\n",
      "n_necesarias (Núm. de modificaciones necesarias):  4 \n",
      "\n",
      "precision (n_correctas/n_hechas):  0.6\n",
      "recall (n_correctas/n_necesarias):  0.75 \n",
      "\n"
     ]
    }
   ],
   "source": [
    "corpus_line = 3\n",
    "evaluate_example_from_corpus_punctuated(CHECK_PREP_PATH,TEST_RAW_PATH,TEST_PREDICT_PREP_PATH,corpus_line,prepared=True, readeable=True)"
   ]
  },
  {
   "cell_type": "code",
   "execution_count": null,
   "metadata": {},
   "outputs": [],
   "source": []
  }
 ],
 "metadata": {
  "accelerator": "GPU",
  "colab": {
   "collapsed_sections": [],
   "machine_shape": "hm",
   "name": "TRABAJO_PLN_APARTADO6_JULIAN_GALINDO_ALVAREZ_20091281E.ipynb",
   "provenance": []
  },
  "gpuClass": "standard",
  "kernelspec": {
   "display_name": "Python 3 (ipykernel)",
   "language": "python",
   "name": "python3"
  },
  "language_info": {
   "codemirror_mode": {
    "name": "ipython",
    "version": 3
   },
   "file_extension": ".py",
   "mimetype": "text/x-python",
   "name": "python",
   "nbconvert_exporter": "python",
   "pygments_lexer": "ipython3",
   "version": "3.9.6"
  },
  "vscode": {
   "interpreter": {
    "hash": "caf8521805df2f681626d7ffc655f9a444f7479c982c19b2313015333928fe69"
   }
  }
 },
 "nbformat": 4,
 "nbformat_minor": 1
}

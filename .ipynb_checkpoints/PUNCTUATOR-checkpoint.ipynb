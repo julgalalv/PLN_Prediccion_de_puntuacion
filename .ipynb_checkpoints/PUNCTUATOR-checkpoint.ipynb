{
 "cells": [
  {
   "cell_type": "code",
   "execution_count": 65,
   "id": "157a6aa6",
   "metadata": {},
   "outputs": [],
   "source": [
    "#input file\n",
    "PUNCTUATION_VOCABULARY = [\"  _SPACE \", \", ,COMMA\", \". .PERIOD\", \"? ?QUESTIONMARK\", \"! !EXCLAMATIONMARK\", \": :COLON\", \"; ;SEMICOLON\"]\n",
    "#PUNCTUATION_VOCABULARY = [\",,COMMA\", \"..PERIOD\", \"??QUESTIONMARK\"]\n",
    "\n",
    "def process_file(in_file,out_prefix):\n",
    "    fin = open(in_file, \"rt\", encoding='utf-8')\n",
    "    #output file to write the result to\n",
    "    fout = open(in_file+'.'+out_prefix+'.txt', \"wt+\",encoding='utf-8')\n",
    "    #for each line in the input file\n",
    "    for line in fin.readlines():\n",
    "        line = line.rstrip(' \\n')\n",
    "        #read replace the string and write to output file\n",
    "        for c in PUNCTUATION_VOCABULARY:\n",
    "            punct = c[0]\n",
    "            trad = c[1:]\n",
    "            line = line.replace(punct, trad)\n",
    "        fout.write(line+'\\n')\n",
    "    #close input and output files\n",
    "    fin.close()\n",
    "    fout.close()"
   ]
  },
  {
   "cell_type": "code",
   "execution_count": 66,
   "id": "11b9856d",
   "metadata": {},
   "outputs": [],
   "source": [
    "test_file = 'PLN-MULCIA-Junio-2022-Dataset/PunctuationTask.test.en'\n",
    "check_file = 'PLN-MULCIA-Junio-2022-Dataset/PunctuationTask.check.en'\n",
    "train_file = 'PLN-MULCIA-Junio-2022-Dataset/PunctuationTask.train.en'"
   ]
  },
  {
   "cell_type": "code",
   "execution_count": 67,
   "id": "ad160b8c",
   "metadata": {},
   "outputs": [],
   "source": [
    "process_file(train_file,'train') "
   ]
  },
  {
   "cell_type": "code",
   "execution_count": 68,
   "id": "afaeb7d9",
   "metadata": {},
   "outputs": [],
   "source": [
    "process_file(test_file,'dev') "
   ]
  },
  {
   "cell_type": "code",
   "execution_count": 69,
   "id": "06866219",
   "metadata": {},
   "outputs": [],
   "source": [
    "process_file(check_file,'test') "
   ]
  },
  {
   "cell_type": "code",
   "execution_count": 8,
   "id": "b6f357bf",
   "metadata": {},
   "outputs": [
    {
     "name": "stdout",
     "output_type": "stream",
     "text": [
      "Data path '../data' already exists. Do you want to:\n",
      "[r]eplace the files in existing data path?\n",
      "[e]xit?\n",
      ">r\n",
      "Vocabulary size: 21114\n",
      "1.19% UNK-s in ../data\\train\n",
      "2.60% UNK-s in ../data\\dev\n",
      "2.57% UNK-s in ../data\\test\n"
     ]
    }
   ],
   "source": [
    "%run \"punctuator2\\data.py\" \".\\punctuator2\\example\\out\""
   ]
  },
  {
   "cell_type": "code",
   "execution_count": null,
   "id": "844213d4",
   "metadata": {},
   "outputs": [],
   "source": [
    "%run \"punctuator2\\main.py\" \"jul_punct\" 2 0.1"
   ]
  },
  {
   "cell_type": "code",
   "execution_count": null,
   "id": "2f732ac9",
   "metadata": {},
   "outputs": [],
   "source": []
  }
 ],
 "metadata": {
  "kernelspec": {
   "display_name": "pln_env",
   "language": "python",
   "name": "pln_env"
  },
  "language_info": {
   "codemirror_mode": {
    "name": "ipython",
    "version": 3
   },
   "file_extension": ".py",
   "mimetype": "text/x-python",
   "name": "python",
   "nbconvert_exporter": "python",
   "pygments_lexer": "ipython3",
   "version": "3.9.6"
  }
 },
 "nbformat": 4,
 "nbformat_minor": 5
}

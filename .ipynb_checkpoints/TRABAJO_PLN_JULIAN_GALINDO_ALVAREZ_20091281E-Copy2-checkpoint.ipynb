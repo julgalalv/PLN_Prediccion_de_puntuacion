{
 "cells": [
  {
   "cell_type": "code",
   "execution_count": 1,
   "id": "e75e6f2c",
   "metadata": {},
   "outputs": [],
   "source": [
    "import re"
   ]
  },
  {
   "cell_type": "code",
   "execution_count": 13,
   "id": "bb1305c6",
   "metadata": {},
   "outputs": [],
   "source": [
    "# Signos de puntuación (sdp)\n",
    "punct_signs = ['.',',',';',':','?','!']\n",
    "# Signos que afectan a las mayúscualas del entorno\n",
    "mayus_signs = ['.','?','!']"
   ]
  },
  {
   "cell_type": "code",
   "execution_count": 14,
   "id": "5a142e43",
   "metadata": {},
   "outputs": [],
   "source": [
    "# Apartado 1\n",
    "def inicial(string,mayuscula):\n",
    "    if not string:\n",
    "        return\n",
    "    inicial = string[0]\n",
    "    inicial_cambiada = inicial.upper() if mayuscula else inicial.lower()\n",
    "    temp = list(string)\n",
    "    temp[0] = inicial_cambiada\n",
    "    return ''.join(temp)\n",
    "\n",
    "def addPunctuationBasic(string):\n",
    "    inicial_mayus = inicial(string,mayuscula=True)\n",
    "    last_char = inicial_mayus[-1]\n",
    "    add_dot = '.' if last_char != '.' else ''\n",
    "    return inicial_mayus + add_dot"
   ]
  },
  {
   "cell_type": "code",
   "execution_count": 15,
   "id": "25868085",
   "metadata": {},
   "outputs": [
    {
     "data": {
      "text/plain": [
       "'Esta es una frase de prueba.'"
      ]
     },
     "execution_count": 15,
     "metadata": {},
     "output_type": "execute_result"
    }
   ],
   "source": [
    "addPunctuationBasic('esta es una frase de prueba')"
   ]
  },
  {
   "cell_type": "code",
   "execution_count": 16,
   "id": "3781fd5d",
   "metadata": {},
   "outputs": [],
   "source": [
    "# Dadas dos listas, añade '' a la menor hasta que ambas tengan el mismo tamaño\n",
    "def padding(list1, list2):\n",
    "    len1, len2 = len(list1), len(list2)\n",
    "    max_len = max(len1, len2)\n",
    "    list1 = [*list1, *([''] * (max_len - len1))]\n",
    "    list2 = [*list2, *([''] * (max_len - len2))]\n",
    "    return list1, list2"
   ]
  },
  {
   "cell_type": "code",
   "execution_count": 17,
   "id": "9a2ce2df",
   "metadata": {},
   "outputs": [
    {
     "data": {
      "text/plain": [
       "(['s', 'a', '', ''], ['1', '2', '3', '4'])"
      ]
     },
     "execution_count": 17,
     "metadata": {},
     "output_type": "execute_result"
    }
   ],
   "source": [
    "list1 = ['s','a','']\n",
    "list2 = ['1','2','3','4']\n",
    "padding(list1,list2)"
   ]
  },
  {
   "cell_type": "code",
   "execution_count": 24,
   "id": "80814bb2",
   "metadata": {},
   "outputs": [],
   "source": [
    "def tokenizator(text):\n",
    "    # Añadimos un espacio delante de los caracteres especiales para poder separarlos\n",
    "    text = re.sub(r' ?([.|,|;|:|?|!]+) ?', r' \\1 ', text)\n",
    "    return text.split()\n",
    "\n",
    "def verifyPunctuation(check, test):\n",
    "    # Tokenizamos los textos\n",
    "    check = tokenizator(check)\n",
    "    test = tokenizator(test)\n",
    "    # Hacemos padding\n",
    "    check, test = padding(check, test)\n",
    "    l_check = len(check)\n",
    "    modifications = []   \n",
    "    \n",
    "    for i in range(l_check):\n",
    "        # Deletions:\n",
    "        # Si test[i] no es un sdp pero check[i] si y las palabras anteriores coinciden salvo mayúsculas\n",
    "        # añadimos la modificación ('D', i) e insertamos el correspondiente sdp faltante en test.\n",
    "        if check[i] in punct_signs:\n",
    "            if test[i] not in punct_signs and test[i-1].upper() == check[i - 1].upper():\n",
    "                modifications.append(('D',i))\n",
    "                test.insert(i,check[i])\n",
    "                # Si se ha añadido un signo de puntuación que afecta a mayúsculas, hay que poner la siguiente\n",
    "                # palabra en mayúsculas.\n",
    "                if check[i] in mayus_signs and i < len(check)-1:\n",
    "                    test[i+1] = inicial(test[i+1],mayuscula=True)\n",
    "                \n",
    "        # Reestablecemos el padding para mantener misma longitud\n",
    "        check, test = padding(check, test)\n",
    "\n",
    "        # Insertions:\n",
    "        # Si test[i] es un sdp pero check[i] no y las palabras anteriores coinciden salvo mayúsculas\n",
    "        # añadimos la modificación ('I', i) y eliminamos el correspondiente sdp en test.\n",
    "        if check[i] not in punct_signs:\n",
    "            if test[i] in punct_signs and test[i-1].upper() == check[i - 1].upper():\n",
    "                modifications.append(('I',i))\n",
    "                # Si se ha eliminado un signo de puntuación que afecta a mayúsculas, hay que poner la siguiente\n",
    "                # palabra en minúscula.\n",
    "                if test[i] in mayus_signs and i < len(test)-1:\n",
    "                    test[i+1] = inicial(test[i+1],mayuscula=False)\n",
    "                test.pop(i)\n",
    "                \n",
    "    # Reestablecemos el padding para mantener misma longitud\n",
    "    check, test = padding(check, test)\n",
    "    \n",
    "    # Substitutions:\n",
    "    # Tras haber transformado test para añadir los as sustituciones son aquellos elementos que no coinciden\n",
    "    for i in range(l_check):\n",
    "        if check[i] != test[i] and check[i] != '' and test[i] != '':\n",
    "            modifications.append(('S',i))\n",
    "    return set(modifications)"
   ]
  },
  {
   "cell_type": "code",
   "execution_count": 25,
   "id": "b2c034b3",
   "metadata": {},
   "outputs": [],
   "source": [
    "def evaluate(punctuationFunction, show_line = -1, add_punct_basic = False):\n",
    "    test_file = 'PLN-MULCIA-Junio-2022-Dataset/PunctuationTask.test.en'\n",
    "    check_file = 'PLN-MULCIA-Junio-2022-Dataset/PunctuationTask.check.en'\n",
    "    # número de instancias correctamente puntuadas\n",
    "    num_correctos = 0\n",
    "    # número de cambios globales hechos por la función  \n",
    "    hechos = 0\n",
    "    # número de modificaciones correctas globales\n",
    "    correctos = 0\n",
    "    # número de modificaciones necesarias globales\n",
    "    necesarios = 0\n",
    "    \n",
    "    predicted_list = []\n",
    "    # precisión y recall por instancia para calcular las medias\n",
    "    precision_, recall_ = [], []\n",
    "    \n",
    "    with open(test_file, 'r', encoding='utf-8-sig') as test, open(check_file, 'r', encoding='utf-8-sig') as check:\n",
    "        test_lines = test.readlines()\n",
    "        check_lines = check.readlines()\n",
    "        \n",
    "        # número de instancias\n",
    "        N = len(test_lines)\n",
    "        #testeo = True\n",
    "        for i in range(N):\n",
    "            c = check_lines[i].rstrip(' \\n')\n",
    "            t = test_lines[i].rstrip(' \\n')\n",
    "            punctuated = punctuationFunction(t,add_punct_basic) if add_punct_basic else punctuationFunction(t)\n",
    "            predicted_list.append(punctuated)\n",
    "            # Diferencia entre el check y el test original (cambios necesarios)\n",
    "            vct = verifyPunctuation(t,c)\n",
    "            # Diferencia entre el test original y el modificado (modificaciones hechas por la función)\n",
    "            vtmt = verifyPunctuation(t,punctuated)\n",
    "            # Diferencia entre el check y el modificado (modificaciones hechas por la función)\n",
    "            vcmt = verifyPunctuation(punctuated,c)\n",
    "            num_correctos += 1 if len(vcmt) == 0 else 0\n",
    "            # número de cambios hechos por la función            \n",
    "            hechos_ = len(vtmt)\n",
    "            # número de cambios necesarios\n",
    "            necesarios_ = len(vct)\n",
    "            # número de cambios correctos hechos (intersección entre cambios hechos y necesarios)\n",
    "            correctos_ = len(vtmt & vct) \n",
    "            \n",
    "            # Esta definición de correctos_ es incompleta bajo el uso de verifyPunctuation ya que por ejemplo si\n",
    "            # el modelo añade al final (token 23 por ejemplo) un '.' y debía añadir '?', en ambos casos recibiremos\n",
    "            # ('I',23) y sin embargo es incorrecto. En resumen, verifyPunctuation no nos devuelve información sobre el \n",
    "            # token en si. Corregimos esto con un factor de error.\n",
    "            error_ = 0\n",
    "            l_t = len(tokenizator(t))\n",
    "            l_c = len(tokenizator(c))\n",
    "            cambios = list(vtmt)\n",
    "            diferencias = list(vcmt)\n",
    "            # Para cada token que aparece en la verificación de la predicción con el test (cambios), comprobamos si \n",
    "            # en la verificación de la predicción con el check (diferencias) aparecen operaciones distintas, esto es,\n",
    "            # se ha insertado un signo incorrecto (I) ya que en la verificación aparece una sustitución de ese signo (S)\n",
    "            for j in range(len(cambios)):\n",
    "                token = cambios[j][1]\n",
    "                operacion = cambios[j][0]\n",
    "                for k in range(len(diferencias)):\n",
    "                    error_ += 1 if token == diferencias[k][1] and token<l_t and diferencias[k][1]<l_c and operacion == 'I' and diferencias[k][0] == 'S' else 0\n",
    "            # El token final lo tratamos por separado\n",
    "            error_ += 1 if punctuated[-1] in punct_signs and c[-1] in punct_signs and punctuated[-1] != c[-1] else 0\n",
    "            # Corregimos correctos_ en base al error\n",
    "            correctos_ -= error_\n",
    "\n",
    "            # métricas medias\n",
    "            precision_.append(correctos_ / hechos_) if hechos_ != 0 else precision_.append(0)\n",
    "            recall_.append(correctos_ / necesarios_) if necesarios_ != 0 else recall_.append(0)\n",
    "            hechos += hechos_\n",
    "            correctos += correctos_\n",
    "            necesarios += necesarios_\n",
    "            #testeo = vct == (vtmt | vcmt)\n",
    "           \n",
    "            # si show_line está en el rango de instancias se muestra información concreta de esa línea\n",
    "            if i == show_line:\n",
    "                print('TEST LINE: \\n ',t)\n",
    "                print('VALIDATION LINE: \\n ',c)\n",
    "                print('MODEL PUNCTUATED LINE: \\n ',punctuated,'\\n')\n",
    "                print('Modificaciones necesarias: ', vct)\n",
    "                print('Modificaciones hechas por el modelo: ',vtmt)\n",
    "                print('Diferencias entre modelo y validación: ',vcmt, '\\n')\n",
    "                print('n_hechas (Núm. de modificaciones hechas por el modelo): ',hechos_)\n",
    "                print('n_correctas (Núm. de modificaciones correctas: \\n interseccion(hechas,necesarias) - error de sustitucion de signo): ',correctos_)\n",
    "                print('n_necesarias (Núm. de modificaciones necesarias): ',necesarios_, '\\n')\n",
    "                print('precision (n_correctas/n_hechas): ',precision_[i])\n",
    "                print('recall (n_correctas/n_necesarias): ',recall_[i],'\\n')\n",
    "        test.close()\n",
    "        check.close()\n",
    "        \n",
    "    # Métricas globales\n",
    "    precision = correctos / hechos\n",
    "    recall = correctos / necesarios\n",
    "    F1 = 2 * (precision * recall) / (precision + recall)\n",
    "    # Métricas medias\n",
    "    precision_media = sum(precision_)/len(precision_)\n",
    "    recall_media = sum(recall_)/len(recall_)\n",
    "    F1_media = 2 * (precision_media * recall_media) / (precision_media + recall_media)\n",
    "    rendimiento = num_correctos/N\n",
    "    print('='*40)\n",
    "    print('MÉTRICAS')\n",
    "    print('='*40)\n",
    "    print ('precision global: ', precision)\n",
    "    print ('recall global: ', recall)\n",
    "    print ('F1 global: ', F1)\n",
    "    print('-'*40)\n",
    "    print ('precision media: ', precision_media)\n",
    "    print ('recall medio: ', recall_media)\n",
    "    print ('F1 medio: ', F1_media)\n",
    "    print('-'*40)\n",
    "    print ('rendimiento: ', rendimiento)\n",
    "    print('-'*40)\n",
    "    \n",
    "    result_dict = {'precision_global':precision, 'recall_global':recall, 'F1_global':F1,'precision_mean':precision_media, 'recall_mean':recall_media, 'F1_mean':F1_media, 'score':rendimiento }\n",
    "    return result_dict\n",
    "    \n",
    "    "
   ]
  },
  {
   "cell_type": "code",
   "execution_count": 26,
   "id": "e40008f1",
   "metadata": {},
   "outputs": [
    {
     "name": "stdout",
     "output_type": "stream",
     "text": [
      "TEST LINE: \n",
      "  now we're using this chip and what are we using it for\n",
      "VALIDATION LINE: \n",
      "  Now we're using this chip. And what are we using it for?\n",
      "MODEL PUNCTUATED LINE: \n",
      "  Now we're using this chip and what are we using it for. \n",
      "\n",
      "Modificaciones necesarias:  {('I', 5), ('I', 12), ('S', 0)}\n",
      "Modificaciones hechas por el modelo:  {('I', 12), ('S', 0)}\n",
      "Diferencias entre modelo y validación:  {('I', 5), ('S', 12)} \n",
      "\n",
      "n_hechas (Núm. de modificaciones hechas por el modelo):  2\n",
      "n_correctas (Núm. de modificaciones correctas: \n",
      " interseccion(hechas,necesarias) - error de sustitucion de signo):  1\n",
      "n_necesarias (Núm. de modificaciones necesarias):  3 \n",
      "\n",
      "precision (n_correctas/n_hechas):  0.5\n",
      "recall (n_correctas/n_necesarias):  0.3333333333333333 \n",
      "\n",
      "========================================\n",
      "MÉTRICAS\n",
      "========================================\n",
      "precision global:  0.9481749791028141\n",
      "recall global:  0.4382979408497416\n",
      "F1 global:  0.5994825213322323\n",
      "----------------------------------------\n",
      "precision media:  0.9474342928660826\n",
      "recall medio:  0.5944736519400461\n",
      "F1 medio:  0.7305555768754433\n",
      "----------------------------------------\n",
      "rendimiento:  0.263384786538729\n",
      "----------------------------------------\n"
     ]
    },
    {
     "data": {
      "text/plain": [
       "{'precision_global': 0.9481749791028141,\n",
       " 'recall_global': 0.4382979408497416,\n",
       " 'F1_global': 0.5994825213322323,\n",
       " 'precision_mean': 0.9474342928660826,\n",
       " 'recall_mean': 0.5944736519400461,\n",
       " 'F1_mean': 0.7305555768754433,\n",
       " 'score': 0.263384786538729}"
      ]
     },
     "execution_count": 26,
     "metadata": {},
     "output_type": "execute_result"
    }
   ],
   "source": [
    "evaluate(addPunctuationBasic,9560)"
   ]
  },
  {
   "cell_type": "markdown",
   "id": "060cd307",
   "metadata": {},
   "source": [
    "Vemos que la precisión es alta, lo que indica que lo que tiene que hacer el modelo (poner la primera letra en mayúscula y un punto al final), lo hace bien. Sin embargo, el recall es bajo ya que esos cambios no son suficientes para puntuar correctamente las oraciones, cosa que también se deduce del bajo rendimiento."
   ]
  },
  {
   "cell_type": "code",
   "execution_count": 27,
   "id": "7f67d4e8",
   "metadata": {},
   "outputs": [],
   "source": [
    "def ngrams(text,N):\n",
    "    text = tokenizator(text)\n",
    "    return [tuple(text[i:i+N]) for i in range(len(text)-N+1)]\n",
    "\n",
    "def get_voc_from_text(text):\n",
    "    return set(tokenizator(train_lines))"
   ]
  },
  {
   "cell_type": "code",
   "execution_count": 28,
   "id": "7fb5eb04",
   "metadata": {},
   "outputs": [],
   "source": [
    "import numpy as np\n",
    "class model4gram():\n",
    "\n",
    "    def __init__(self):\n",
    "        self.punct_signs = ['.',',',';',':','?','!']\n",
    "        self.mayus_signs = ['.','?','!']\n",
    "        self.minus = '<minus>'\n",
    "        self.mayus = '<mayus>'\n",
    "        self.four_grams = dict()\n",
    "\n",
    "                \n",
    "    def entrena(self):\n",
    "        train_file = 'PLN-MULCIA-Junio-2022-Dataset/PunctuationTask.train.en'\n",
    "\n",
    "        self.four_grams[self.mayus]= {}\n",
    "        self.four_grams[self.minus]={}\n",
    "        for s in model.punct_signs:\n",
    "            self.four_grams[s] = {}\n",
    "        with open(train_file, 'r', encoding='utf-8') as train:\n",
    "            train_lines = train.readlines()\n",
    "            for line in train_lines:\n",
    "                line = line.rstrip(' \\n')\n",
    "                ng = ngrams(line,4)\n",
    "                for token in ng:\n",
    "                    last = token[3]\n",
    "                    op = last if last in self.punct_signs else self.mayus if last.isupper() else self.minus  \n",
    "                    triplet = (token[0].lower(),token[1].lower(),token[2].lower())\n",
    "                    self.four_grams[op][triplet]= self.four_grams[op].get(triplet,0) + 1\n",
    "        train.close()\n",
    "                \n",
    "    def predice(self, terna,print_scores=False):\n",
    "        v = 0\n",
    "        prediction = 'NONE'\n",
    "        for i in self.four_grams:\n",
    "            value = self.four_grams[i].get(terna,0) \n",
    "            print((i,value)) if print_scores else True\n",
    "            if value > v:\n",
    "                prediction = i\n",
    "                v = value\n",
    "        grama =  (*terna, prediction)\n",
    "        return grama"
   ]
  },
  {
   "cell_type": "code",
   "execution_count": 29,
   "id": "da6e256e",
   "metadata": {},
   "outputs": [],
   "source": [
    "model = model4gram()\n",
    "model.entrena()"
   ]
  },
  {
   "cell_type": "code",
   "execution_count": 38,
   "id": "076b0c8f",
   "metadata": {},
   "outputs": [
    {
     "data": {
      "text/plain": [
       "8"
      ]
     },
     "execution_count": 38,
     "metadata": {},
     "output_type": "execute_result"
    }
   ],
   "source": [
    "len(model.four_grams)"
   ]
  },
  {
   "cell_type": "code",
   "execution_count": 37,
   "id": "77e5ba60",
   "metadata": {},
   "outputs": [
    {
     "name": "stdout",
     "output_type": "stream",
     "text": [
      "Ocurrencias con el signo  <mayus>  para la terna  ('by', 'the', 'way') : 0\n",
      "Ocurrencias con el signo  <minus>  para la terna  ('by', 'the', 'way') : 25\n",
      "Ocurrencias con el signo  .  para la terna  ('by', 'the', 'way') : 36\n",
      "Ocurrencias con el signo  ,  para la terna  ('by', 'the', 'way') : 200\n",
      "Ocurrencias con el signo  ;  para la terna  ('by', 'the', 'way') : 1\n",
      "Ocurrencias con el signo  :  para la terna  ('by', 'the', 'way') : 0\n",
      "Ocurrencias con el signo  ?  para la terna  ('by', 'the', 'way') : 1\n",
      "Ocurrencias con el signo  !  para la terna  ('by', 'the', 'way') : 0\n"
     ]
    }
   ],
   "source": [
    "terna = ('by','the','way')\n",
    "for i in model.four_grams:\n",
    "    print('Ocurrencias con el signo ',i,' para la terna ',terna, ':',model.four_grams[i].get(terna,0))"
   ]
  },
  {
   "cell_type": "code",
   "execution_count": 623,
   "id": "739ff2f6",
   "metadata": {},
   "outputs": [],
   "source": [
    "def addPunctuation4gram(example,add_basic_punct = False):\n",
    "    # Trabajamos con los tokens\n",
    "    example = tokenizator(example)\n",
    "    num_tokens = len(example)\n",
    "    # Generamos los 3-gramas del texto\n",
    "    N = 3\n",
    "    grams = [tuple(example[i:i+N]) for i in range(len(example)-N+1)]\n",
    "    added_tokens = 0\n",
    "    for i in range(len(grams)):\n",
    "        # Calculamos el 4-grama predicho\n",
    "        four_gram = model.predice(grams[i])\n",
    "        operation = four_gram[-1]\n",
    "        target_index = i+N+added_tokens\n",
    "        # Transformamos los tokens del texto\n",
    "        if operation == model.mayus and target_index < num_tokens:\n",
    "            example[target_index] = inicial(example[target_index], mayuscula = True)\n",
    "        if operation == model.minus and target_index < num_tokens:\n",
    "            example[target_index] = inicial(example[target_index], mayuscula = False)\n",
    "        if operation in model.punct_signs:\n",
    "            added_tokens += 1\n",
    "            num_tokens += 1\n",
    "            example.insert(target_index, operation)\n",
    "            if operation in model.mayus_signs and target_index < num_tokens -1:\n",
    "                example[target_index+1] = inicial(example[target_index+1], mayuscula = True)\n",
    "\n",
    "    # Añadimos los espacios excepto para los signos de puntuación\n",
    "    result = [' ' + x if x not in model.punct_signs else x for x in example]\n",
    "    result = ''.join(result)[1:]\n",
    "    # Reconstruimos el texto predicho\n",
    "    if add_basic_punct:\n",
    "        dot = '' if result[-1] in model.punct_signs else '.'\n",
    "        result = inicial(result + dot,mayuscula=True)\n",
    "    return result \n",
    "    "
   ]
  },
  {
   "cell_type": "code",
   "execution_count": 624,
   "id": "1944aec7",
   "metadata": {},
   "outputs": [
    {
     "data": {
      "text/plain": [
       "'and we also are eating meat, that comes from some of these same places'"
      ]
     },
     "execution_count": 624,
     "metadata": {},
     "output_type": "execute_result"
    }
   ],
   "source": [
    "text_example = \"and we also are eating meat that comes from some of these same places\"\n",
    "addPunctuation4gram(text_example,False)"
   ]
  },
  {
   "cell_type": "code",
   "execution_count": 692,
   "id": "c01512bd",
   "metadata": {},
   "outputs": [
    {
     "name": "stdout",
     "output_type": "stream",
     "text": [
      "TEST LINE: \n",
      "  now we're using this chip and what are we using it for\n",
      "VALIDATION LINE: \n",
      "  Now we're using this chip. And what are we using it for?\n",
      "MODEL PUNCTUATED LINE: \n",
      "  now we're using this chip and what are we using it? For \n",
      "\n",
      "Modificaciones necesarias:  {('I', 12), ('I', 5), ('S', 0)}\n",
      "Modificaciones hechas por el modelo:  {('I', 11)}\n",
      "Diferencias entre modelo y validación:  {('S', 0), ('D', 11), ('I', 5), ('I', 13)} \n",
      "\n",
      "n_hechas (Núm. de modificaciones hechas por el modelo):  1\n",
      "n_correctas (Núm. de modificaciones correctas: \n",
      " interseccion(hechas,necesarias) - error de sustitucion de signo):  0\n",
      "n_necesarias (Núm. de modificaciones necesarias):  3 \n",
      "\n",
      "precision (n_correctas/n_hechas):  0.0\n",
      "recall (n_correctas/n_necesarias):  0.0 \n",
      "\n",
      "========================================\n",
      "MÉTRICAS\n",
      "========================================\n",
      "precision global:  0.37399372356392413\n",
      "recall global:  0.044129248305507705\n",
      "F1 global:  0.07894357881397426\n",
      "----------------------------------------\n",
      "precision media:  0.14295304137294124\n",
      "recall medio:  0.048266283900523246\n",
      "F1 medio:  0.07216647239479738\n",
      "----------------------------------------\n",
      "rendimiento:  0.0\n",
      "----------------------------------------\n"
     ]
    }
   ],
   "source": [
    "evaluate(addPunctuation4gram,9560)"
   ]
  },
  {
   "cell_type": "code",
   "execution_count": 702,
   "id": "66470e2d",
   "metadata": {},
   "outputs": [
    {
     "name": "stdout",
     "output_type": "stream",
     "text": [
      "TEST LINE: \n",
      "  how is that possible\n",
      "VALIDATION LINE: \n",
      "  How is that possible?\n",
      "MODEL PUNCTUATED LINE: \n",
      "  How is that possible? \n",
      "\n",
      "Modificaciones necesarias:  {('S', 0), ('I', 4)}\n",
      "Modificaciones hechas por el modelo:  {('S', 0), ('I', 4)}\n",
      "Diferencias entre modelo y validación:  set() \n",
      "\n",
      "n_hechas (Núm. de modificaciones hechas por el modelo):  2\n",
      "n_correctas (Núm. de modificaciones correctas: \n",
      " interseccion(hechas,necesarias) - error de sustitucion de signo):  2\n",
      "n_necesarias (Núm. de modificaciones necesarias):  2 \n",
      "\n",
      "precision (n_correctas/n_hechas):  1.0\n",
      "recall (n_correctas/n_necesarias):  1.0 \n",
      "\n",
      "========================================\n",
      "MÉTRICAS\n",
      "========================================\n",
      "precision global:  0.8273539317616049\n",
      "recall global:  0.4548162220469145\n",
      "F1 global:  0.5869642003781503\n",
      "----------------------------------------\n",
      "precision media:  0.8615137951308618\n",
      "recall medio:  0.6044705677717082\n",
      "F1 medio:  0.7104574183244832\n",
      "----------------------------------------\n",
      "rendimiento:  0.2369628702544848\n",
      "----------------------------------------\n"
     ]
    }
   ],
   "source": [
    "lista = evaluate(addPunctuation4gram,192,True)"
   ]
  },
  {
   "cell_type": "code",
   "execution_count": null,
   "id": "d77b5e0a",
   "metadata": {},
   "outputs": [],
   "source": []
  }
 ],
 "metadata": {
  "kernelspec": {
   "display_name": "Python 3 (ipykernel)",
   "language": "python",
   "name": "python3"
  },
  "language_info": {
   "codemirror_mode": {
    "name": "ipython",
    "version": 3
   },
   "file_extension": ".py",
   "mimetype": "text/x-python",
   "name": "python",
   "nbconvert_exporter": "python",
   "pygments_lexer": "ipython3",
   "version": "3.9.6"
  }
 },
 "nbformat": 4,
 "nbformat_minor": 5
}
